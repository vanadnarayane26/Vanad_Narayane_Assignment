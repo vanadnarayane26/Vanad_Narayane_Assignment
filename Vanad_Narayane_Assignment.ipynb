{
  "nbformat": 4,
  "nbformat_minor": 0,
  "metadata": {
    "colab": {
      "name": "Vanad_Narayane_Assignment.ipynb",
      "provenance": [],
      "collapsed_sections": [],
      "authorship_tag": "ABX9TyP2tKdMB2WdAembbhgpiGp8"
    },
    "kernelspec": {
      "name": "python3",
      "display_name": "Python 3"
    },
    "language_info": {
      "name": "python"
    },
    "accelerator": "GPU",
    "widgets": {
      "application/vnd.jupyter.widget-state+json": {
        "cc996b6d9ec94ef7bb85a7b8537e2f85": {
          "model_module": "@jupyter-widgets/controls",
          "model_name": "HBoxModel",
          "model_module_version": "1.5.0",
          "state": {
            "_view_name": "HBoxView",
            "_dom_classes": [],
            "_model_name": "HBoxModel",
            "_view_module": "@jupyter-widgets/controls",
            "_model_module_version": "1.5.0",
            "_view_count": null,
            "_view_module_version": "1.5.0",
            "box_style": "",
            "layout": "IPY_MODEL_1ecc2baa9e0a466480ef1e15e5fe2c24",
            "_model_module": "@jupyter-widgets/controls",
            "children": [
              "IPY_MODEL_b57b1abaae7945cd94c3a63014654c5e",
              "IPY_MODEL_4d06cf7cbc11404992b5b9143b5e2fd5",
              "IPY_MODEL_dcecdd059cc448bb9e797b4641f28d33"
            ]
          }
        },
        "1ecc2baa9e0a466480ef1e15e5fe2c24": {
          "model_module": "@jupyter-widgets/base",
          "model_name": "LayoutModel",
          "model_module_version": "1.2.0",
          "state": {
            "_view_name": "LayoutView",
            "grid_template_rows": null,
            "right": null,
            "justify_content": null,
            "_view_module": "@jupyter-widgets/base",
            "overflow": null,
            "_model_module_version": "1.2.0",
            "_view_count": null,
            "flex_flow": null,
            "width": null,
            "min_width": null,
            "border": null,
            "align_items": null,
            "bottom": null,
            "_model_module": "@jupyter-widgets/base",
            "top": null,
            "grid_column": null,
            "overflow_y": null,
            "overflow_x": null,
            "grid_auto_flow": null,
            "grid_area": null,
            "grid_template_columns": null,
            "flex": null,
            "_model_name": "LayoutModel",
            "justify_items": null,
            "grid_row": null,
            "max_height": null,
            "align_content": null,
            "visibility": null,
            "align_self": null,
            "height": null,
            "min_height": null,
            "padding": null,
            "grid_auto_rows": null,
            "grid_gap": null,
            "max_width": null,
            "order": null,
            "_view_module_version": "1.2.0",
            "grid_template_areas": null,
            "object_position": null,
            "object_fit": null,
            "grid_auto_columns": null,
            "margin": null,
            "display": null,
            "left": null
          }
        },
        "b57b1abaae7945cd94c3a63014654c5e": {
          "model_module": "@jupyter-widgets/controls",
          "model_name": "HTMLModel",
          "model_module_version": "1.5.0",
          "state": {
            "_view_name": "HTMLView",
            "style": "IPY_MODEL_7f84bed5f74b485e87f5b45719733644",
            "_dom_classes": [],
            "description": "",
            "_model_name": "HTMLModel",
            "placeholder": "​",
            "_view_module": "@jupyter-widgets/controls",
            "_model_module_version": "1.5.0",
            "value": "100%",
            "_view_count": null,
            "_view_module_version": "1.5.0",
            "description_tooltip": null,
            "_model_module": "@jupyter-widgets/controls",
            "layout": "IPY_MODEL_8faba0706bc24d3593a0ec2ae7ae6e02"
          }
        },
        "4d06cf7cbc11404992b5b9143b5e2fd5": {
          "model_module": "@jupyter-widgets/controls",
          "model_name": "FloatProgressModel",
          "model_module_version": "1.5.0",
          "state": {
            "_view_name": "ProgressView",
            "style": "IPY_MODEL_5601e37aa5e641ac9a2491d1b96f1a60",
            "_dom_classes": [],
            "description": "",
            "_model_name": "FloatProgressModel",
            "bar_style": "success",
            "max": 2,
            "_view_module": "@jupyter-widgets/controls",
            "_model_module_version": "1.5.0",
            "value": 2,
            "_view_count": null,
            "_view_module_version": "1.5.0",
            "orientation": "horizontal",
            "min": 0,
            "description_tooltip": null,
            "_model_module": "@jupyter-widgets/controls",
            "layout": "IPY_MODEL_1cc5c2f6e537456bab47e9c66ac65857"
          }
        },
        "dcecdd059cc448bb9e797b4641f28d33": {
          "model_module": "@jupyter-widgets/controls",
          "model_name": "HTMLModel",
          "model_module_version": "1.5.0",
          "state": {
            "_view_name": "HTMLView",
            "style": "IPY_MODEL_d98ee6f926e8404d933ff1c7e292a6d9",
            "_dom_classes": [],
            "description": "",
            "_model_name": "HTMLModel",
            "placeholder": "​",
            "_view_module": "@jupyter-widgets/controls",
            "_model_module_version": "1.5.0",
            "value": " 2/2 [00:00&lt;00:00,  5.22ba/s]",
            "_view_count": null,
            "_view_module_version": "1.5.0",
            "description_tooltip": null,
            "_model_module": "@jupyter-widgets/controls",
            "layout": "IPY_MODEL_8e7353985b084ab99b68855143a7f0cd"
          }
        },
        "7f84bed5f74b485e87f5b45719733644": {
          "model_module": "@jupyter-widgets/controls",
          "model_name": "DescriptionStyleModel",
          "model_module_version": "1.5.0",
          "state": {
            "_view_name": "StyleView",
            "_model_name": "DescriptionStyleModel",
            "description_width": "",
            "_view_module": "@jupyter-widgets/base",
            "_model_module_version": "1.5.0",
            "_view_count": null,
            "_view_module_version": "1.2.0",
            "_model_module": "@jupyter-widgets/controls"
          }
        },
        "8faba0706bc24d3593a0ec2ae7ae6e02": {
          "model_module": "@jupyter-widgets/base",
          "model_name": "LayoutModel",
          "model_module_version": "1.2.0",
          "state": {
            "_view_name": "LayoutView",
            "grid_template_rows": null,
            "right": null,
            "justify_content": null,
            "_view_module": "@jupyter-widgets/base",
            "overflow": null,
            "_model_module_version": "1.2.0",
            "_view_count": null,
            "flex_flow": null,
            "width": null,
            "min_width": null,
            "border": null,
            "align_items": null,
            "bottom": null,
            "_model_module": "@jupyter-widgets/base",
            "top": null,
            "grid_column": null,
            "overflow_y": null,
            "overflow_x": null,
            "grid_auto_flow": null,
            "grid_area": null,
            "grid_template_columns": null,
            "flex": null,
            "_model_name": "LayoutModel",
            "justify_items": null,
            "grid_row": null,
            "max_height": null,
            "align_content": null,
            "visibility": null,
            "align_self": null,
            "height": null,
            "min_height": null,
            "padding": null,
            "grid_auto_rows": null,
            "grid_gap": null,
            "max_width": null,
            "order": null,
            "_view_module_version": "1.2.0",
            "grid_template_areas": null,
            "object_position": null,
            "object_fit": null,
            "grid_auto_columns": null,
            "margin": null,
            "display": null,
            "left": null
          }
        },
        "5601e37aa5e641ac9a2491d1b96f1a60": {
          "model_module": "@jupyter-widgets/controls",
          "model_name": "ProgressStyleModel",
          "model_module_version": "1.5.0",
          "state": {
            "_view_name": "StyleView",
            "_model_name": "ProgressStyleModel",
            "description_width": "",
            "_view_module": "@jupyter-widgets/base",
            "_model_module_version": "1.5.0",
            "_view_count": null,
            "_view_module_version": "1.2.0",
            "bar_color": null,
            "_model_module": "@jupyter-widgets/controls"
          }
        },
        "1cc5c2f6e537456bab47e9c66ac65857": {
          "model_module": "@jupyter-widgets/base",
          "model_name": "LayoutModel",
          "model_module_version": "1.2.0",
          "state": {
            "_view_name": "LayoutView",
            "grid_template_rows": null,
            "right": null,
            "justify_content": null,
            "_view_module": "@jupyter-widgets/base",
            "overflow": null,
            "_model_module_version": "1.2.0",
            "_view_count": null,
            "flex_flow": null,
            "width": null,
            "min_width": null,
            "border": null,
            "align_items": null,
            "bottom": null,
            "_model_module": "@jupyter-widgets/base",
            "top": null,
            "grid_column": null,
            "overflow_y": null,
            "overflow_x": null,
            "grid_auto_flow": null,
            "grid_area": null,
            "grid_template_columns": null,
            "flex": null,
            "_model_name": "LayoutModel",
            "justify_items": null,
            "grid_row": null,
            "max_height": null,
            "align_content": null,
            "visibility": null,
            "align_self": null,
            "height": null,
            "min_height": null,
            "padding": null,
            "grid_auto_rows": null,
            "grid_gap": null,
            "max_width": null,
            "order": null,
            "_view_module_version": "1.2.0",
            "grid_template_areas": null,
            "object_position": null,
            "object_fit": null,
            "grid_auto_columns": null,
            "margin": null,
            "display": null,
            "left": null
          }
        },
        "d98ee6f926e8404d933ff1c7e292a6d9": {
          "model_module": "@jupyter-widgets/controls",
          "model_name": "DescriptionStyleModel",
          "model_module_version": "1.5.0",
          "state": {
            "_view_name": "StyleView",
            "_model_name": "DescriptionStyleModel",
            "description_width": "",
            "_view_module": "@jupyter-widgets/base",
            "_model_module_version": "1.5.0",
            "_view_count": null,
            "_view_module_version": "1.2.0",
            "_model_module": "@jupyter-widgets/controls"
          }
        },
        "8e7353985b084ab99b68855143a7f0cd": {
          "model_module": "@jupyter-widgets/base",
          "model_name": "LayoutModel",
          "model_module_version": "1.2.0",
          "state": {
            "_view_name": "LayoutView",
            "grid_template_rows": null,
            "right": null,
            "justify_content": null,
            "_view_module": "@jupyter-widgets/base",
            "overflow": null,
            "_model_module_version": "1.2.0",
            "_view_count": null,
            "flex_flow": null,
            "width": null,
            "min_width": null,
            "border": null,
            "align_items": null,
            "bottom": null,
            "_model_module": "@jupyter-widgets/base",
            "top": null,
            "grid_column": null,
            "overflow_y": null,
            "overflow_x": null,
            "grid_auto_flow": null,
            "grid_area": null,
            "grid_template_columns": null,
            "flex": null,
            "_model_name": "LayoutModel",
            "justify_items": null,
            "grid_row": null,
            "max_height": null,
            "align_content": null,
            "visibility": null,
            "align_self": null,
            "height": null,
            "min_height": null,
            "padding": null,
            "grid_auto_rows": null,
            "grid_gap": null,
            "max_width": null,
            "order": null,
            "_view_module_version": "1.2.0",
            "grid_template_areas": null,
            "object_position": null,
            "object_fit": null,
            "grid_auto_columns": null,
            "margin": null,
            "display": null,
            "left": null
          }
        },
        "b5739baee5a34c9e8feee57d2af8f461": {
          "model_module": "@jupyter-widgets/controls",
          "model_name": "HBoxModel",
          "model_module_version": "1.5.0",
          "state": {
            "_view_name": "HBoxView",
            "_dom_classes": [],
            "_model_name": "HBoxModel",
            "_view_module": "@jupyter-widgets/controls",
            "_model_module_version": "1.5.0",
            "_view_count": null,
            "_view_module_version": "1.5.0",
            "box_style": "",
            "layout": "IPY_MODEL_4e6f63239bb44123bd3addbc17570df6",
            "_model_module": "@jupyter-widgets/controls",
            "children": [
              "IPY_MODEL_b5188aafdab545c09a9141b1ad8561c1",
              "IPY_MODEL_ee28ca5e2e09485cadeb055aad71912a",
              "IPY_MODEL_b2af651861af43f087dbf7ae9cfcb223"
            ]
          }
        },
        "4e6f63239bb44123bd3addbc17570df6": {
          "model_module": "@jupyter-widgets/base",
          "model_name": "LayoutModel",
          "model_module_version": "1.2.0",
          "state": {
            "_view_name": "LayoutView",
            "grid_template_rows": null,
            "right": null,
            "justify_content": null,
            "_view_module": "@jupyter-widgets/base",
            "overflow": null,
            "_model_module_version": "1.2.0",
            "_view_count": null,
            "flex_flow": null,
            "width": null,
            "min_width": null,
            "border": null,
            "align_items": null,
            "bottom": null,
            "_model_module": "@jupyter-widgets/base",
            "top": null,
            "grid_column": null,
            "overflow_y": null,
            "overflow_x": null,
            "grid_auto_flow": null,
            "grid_area": null,
            "grid_template_columns": null,
            "flex": null,
            "_model_name": "LayoutModel",
            "justify_items": null,
            "grid_row": null,
            "max_height": null,
            "align_content": null,
            "visibility": null,
            "align_self": null,
            "height": null,
            "min_height": null,
            "padding": null,
            "grid_auto_rows": null,
            "grid_gap": null,
            "max_width": null,
            "order": null,
            "_view_module_version": "1.2.0",
            "grid_template_areas": null,
            "object_position": null,
            "object_fit": null,
            "grid_auto_columns": null,
            "margin": null,
            "display": null,
            "left": null
          }
        },
        "b5188aafdab545c09a9141b1ad8561c1": {
          "model_module": "@jupyter-widgets/controls",
          "model_name": "HTMLModel",
          "model_module_version": "1.5.0",
          "state": {
            "_view_name": "HTMLView",
            "style": "IPY_MODEL_0ee5fa0dcafe49f5877fcd87964d4127",
            "_dom_classes": [],
            "description": "",
            "_model_name": "HTMLModel",
            "placeholder": "​",
            "_view_module": "@jupyter-widgets/controls",
            "_model_module_version": "1.5.0",
            "value": "100%",
            "_view_count": null,
            "_view_module_version": "1.5.0",
            "description_tooltip": null,
            "_model_module": "@jupyter-widgets/controls",
            "layout": "IPY_MODEL_822854d0e206416d8179aa72c2e4c009"
          }
        },
        "ee28ca5e2e09485cadeb055aad71912a": {
          "model_module": "@jupyter-widgets/controls",
          "model_name": "FloatProgressModel",
          "model_module_version": "1.5.0",
          "state": {
            "_view_name": "ProgressView",
            "style": "IPY_MODEL_61318653521d4083853b3e21e748b335",
            "_dom_classes": [],
            "description": "",
            "_model_name": "FloatProgressModel",
            "bar_style": "success",
            "max": 1,
            "_view_module": "@jupyter-widgets/controls",
            "_model_module_version": "1.5.0",
            "value": 1,
            "_view_count": null,
            "_view_module_version": "1.5.0",
            "orientation": "horizontal",
            "min": 0,
            "description_tooltip": null,
            "_model_module": "@jupyter-widgets/controls",
            "layout": "IPY_MODEL_7060938383794671a1f7be86c2298c8f"
          }
        },
        "b2af651861af43f087dbf7ae9cfcb223": {
          "model_module": "@jupyter-widgets/controls",
          "model_name": "HTMLModel",
          "model_module_version": "1.5.0",
          "state": {
            "_view_name": "HTMLView",
            "style": "IPY_MODEL_b78fa1159e804194ba90ca0632b64bdc",
            "_dom_classes": [],
            "description": "",
            "_model_name": "HTMLModel",
            "placeholder": "​",
            "_view_module": "@jupyter-widgets/controls",
            "_model_module_version": "1.5.0",
            "value": " 1/1 [00:00&lt;00:00,  6.70ba/s]",
            "_view_count": null,
            "_view_module_version": "1.5.0",
            "description_tooltip": null,
            "_model_module": "@jupyter-widgets/controls",
            "layout": "IPY_MODEL_49a2d701a4b84448b6a092ce7da3d822"
          }
        },
        "0ee5fa0dcafe49f5877fcd87964d4127": {
          "model_module": "@jupyter-widgets/controls",
          "model_name": "DescriptionStyleModel",
          "model_module_version": "1.5.0",
          "state": {
            "_view_name": "StyleView",
            "_model_name": "DescriptionStyleModel",
            "description_width": "",
            "_view_module": "@jupyter-widgets/base",
            "_model_module_version": "1.5.0",
            "_view_count": null,
            "_view_module_version": "1.2.0",
            "_model_module": "@jupyter-widgets/controls"
          }
        },
        "822854d0e206416d8179aa72c2e4c009": {
          "model_module": "@jupyter-widgets/base",
          "model_name": "LayoutModel",
          "model_module_version": "1.2.0",
          "state": {
            "_view_name": "LayoutView",
            "grid_template_rows": null,
            "right": null,
            "justify_content": null,
            "_view_module": "@jupyter-widgets/base",
            "overflow": null,
            "_model_module_version": "1.2.0",
            "_view_count": null,
            "flex_flow": null,
            "width": null,
            "min_width": null,
            "border": null,
            "align_items": null,
            "bottom": null,
            "_model_module": "@jupyter-widgets/base",
            "top": null,
            "grid_column": null,
            "overflow_y": null,
            "overflow_x": null,
            "grid_auto_flow": null,
            "grid_area": null,
            "grid_template_columns": null,
            "flex": null,
            "_model_name": "LayoutModel",
            "justify_items": null,
            "grid_row": null,
            "max_height": null,
            "align_content": null,
            "visibility": null,
            "align_self": null,
            "height": null,
            "min_height": null,
            "padding": null,
            "grid_auto_rows": null,
            "grid_gap": null,
            "max_width": null,
            "order": null,
            "_view_module_version": "1.2.0",
            "grid_template_areas": null,
            "object_position": null,
            "object_fit": null,
            "grid_auto_columns": null,
            "margin": null,
            "display": null,
            "left": null
          }
        },
        "61318653521d4083853b3e21e748b335": {
          "model_module": "@jupyter-widgets/controls",
          "model_name": "ProgressStyleModel",
          "model_module_version": "1.5.0",
          "state": {
            "_view_name": "StyleView",
            "_model_name": "ProgressStyleModel",
            "description_width": "",
            "_view_module": "@jupyter-widgets/base",
            "_model_module_version": "1.5.0",
            "_view_count": null,
            "_view_module_version": "1.2.0",
            "bar_color": null,
            "_model_module": "@jupyter-widgets/controls"
          }
        },
        "7060938383794671a1f7be86c2298c8f": {
          "model_module": "@jupyter-widgets/base",
          "model_name": "LayoutModel",
          "model_module_version": "1.2.0",
          "state": {
            "_view_name": "LayoutView",
            "grid_template_rows": null,
            "right": null,
            "justify_content": null,
            "_view_module": "@jupyter-widgets/base",
            "overflow": null,
            "_model_module_version": "1.2.0",
            "_view_count": null,
            "flex_flow": null,
            "width": null,
            "min_width": null,
            "border": null,
            "align_items": null,
            "bottom": null,
            "_model_module": "@jupyter-widgets/base",
            "top": null,
            "grid_column": null,
            "overflow_y": null,
            "overflow_x": null,
            "grid_auto_flow": null,
            "grid_area": null,
            "grid_template_columns": null,
            "flex": null,
            "_model_name": "LayoutModel",
            "justify_items": null,
            "grid_row": null,
            "max_height": null,
            "align_content": null,
            "visibility": null,
            "align_self": null,
            "height": null,
            "min_height": null,
            "padding": null,
            "grid_auto_rows": null,
            "grid_gap": null,
            "max_width": null,
            "order": null,
            "_view_module_version": "1.2.0",
            "grid_template_areas": null,
            "object_position": null,
            "object_fit": null,
            "grid_auto_columns": null,
            "margin": null,
            "display": null,
            "left": null
          }
        },
        "b78fa1159e804194ba90ca0632b64bdc": {
          "model_module": "@jupyter-widgets/controls",
          "model_name": "DescriptionStyleModel",
          "model_module_version": "1.5.0",
          "state": {
            "_view_name": "StyleView",
            "_model_name": "DescriptionStyleModel",
            "description_width": "",
            "_view_module": "@jupyter-widgets/base",
            "_model_module_version": "1.5.0",
            "_view_count": null,
            "_view_module_version": "1.2.0",
            "_model_module": "@jupyter-widgets/controls"
          }
        },
        "49a2d701a4b84448b6a092ce7da3d822": {
          "model_module": "@jupyter-widgets/base",
          "model_name": "LayoutModel",
          "model_module_version": "1.2.0",
          "state": {
            "_view_name": "LayoutView",
            "grid_template_rows": null,
            "right": null,
            "justify_content": null,
            "_view_module": "@jupyter-widgets/base",
            "overflow": null,
            "_model_module_version": "1.2.0",
            "_view_count": null,
            "flex_flow": null,
            "width": null,
            "min_width": null,
            "border": null,
            "align_items": null,
            "bottom": null,
            "_model_module": "@jupyter-widgets/base",
            "top": null,
            "grid_column": null,
            "overflow_y": null,
            "overflow_x": null,
            "grid_auto_flow": null,
            "grid_area": null,
            "grid_template_columns": null,
            "flex": null,
            "_model_name": "LayoutModel",
            "justify_items": null,
            "grid_row": null,
            "max_height": null,
            "align_content": null,
            "visibility": null,
            "align_self": null,
            "height": null,
            "min_height": null,
            "padding": null,
            "grid_auto_rows": null,
            "grid_gap": null,
            "max_width": null,
            "order": null,
            "_view_module_version": "1.2.0",
            "grid_template_areas": null,
            "object_position": null,
            "object_fit": null,
            "grid_auto_columns": null,
            "margin": null,
            "display": null,
            "left": null
          }
        }
      }
    }
  },
  "cells": [
    {
      "cell_type": "markdown",
      "source": [
        "\n",
        "**Importing the data from google drive.**"
      ],
      "metadata": {
        "id": "ocNVg_hVOAyg"
      }
    },
    {
      "cell_type": "code",
      "execution_count": 1,
      "metadata": {
        "colab": {
          "base_uri": "https://localhost:8080/"
        },
        "id": "48bYN70wnjzo",
        "outputId": "2d19b49a-d895-4baf-819f-bcc643ed9a3b"
      },
      "outputs": [
        {
          "output_type": "stream",
          "name": "stdout",
          "text": [
            "Downloading...\n",
            "From: https://drive.google.com/uc?id=1ueYpFXyMe1RAnbY38gW8vDep1krmgf2O\n",
            "To: /content/query_result_2000.993493Z.parquet\n",
            "\r  0% 0.00/379k [00:00<?, ?B/s]\r100% 379k/379k [00:00<00:00, 50.8MB/s]\n"
          ]
        }
      ],
      "source": [
        "!gdown https://drive.google.com/uc?id=1ueYpFXyMe1RAnbY38gW8vDep1krmgf2O"
      ]
    },
    {
      "cell_type": "markdown",
      "source": [
        "Installing the required libraries"
      ],
      "metadata": {
        "id": "X9U5AUUxN7xS"
      }
    },
    {
      "cell_type": "code",
      "source": [
        "!pip install -q fastparquet\n",
        "!pip install -q transformers[sentencepiece]\n",
        "!pip install -q datasets"
      ],
      "metadata": {
        "id": "HM9tdOldo18c"
      },
      "execution_count": 2,
      "outputs": []
    },
    {
      "cell_type": "code",
      "source": [
        "import pandas as pd\n",
        "import seaborn as sns\n",
        "import numpy as np\n",
        "import matplotlib.pyplot as plt\n",
        "import re\n",
        "import string\n",
        "import nltk\n",
        "import tensorflow as tf\n",
        "\n",
        "from sklearn.preprocessing import LabelEncoder\n",
        "from statistics import mode,median,mean\n",
        "from sklearn.model_selection import train_test_split\n",
        "from sklearn.feature_extraction.text import CountVectorizer\n",
        "from transformers import AutoTokenizer, DataCollatorWithPadding, TFAutoModelForSequenceClassification\n",
        "from datasets import Dataset,load_metric\n",
        "from tensorflow.keras.losses import SparseCategoricalCrossentropy\n",
        "from sklearn.metrics import classification_report"
      ],
      "metadata": {
        "id": "vHn--JRbn4t1"
      },
      "execution_count": 43,
      "outputs": []
    },
    {
      "cell_type": "markdown",
      "source": [
        "**Reading the data in the dataframe using pandas**"
      ],
      "metadata": {
        "id": "GcpAGc2oONE-"
      }
    },
    {
      "cell_type": "code",
      "source": [
        "df = pd.read_parquet(\"/content/query_result_2000.993493Z.parquet\",engine = 'fastparquet')"
      ],
      "metadata": {
        "id": "B2DRtXWyoTMC"
      },
      "execution_count": 4,
      "outputs": []
    },
    {
      "cell_type": "code",
      "source": [
        "df.head()"
      ],
      "metadata": {
        "colab": {
          "base_uri": "https://localhost:8080/",
          "height": 206
        },
        "id": "a6C5EkySoyJr",
        "outputId": "bd3cec63-638b-4e00-c207-fff5a3c843f7"
      },
      "execution_count": 5,
      "outputs": [
        {
          "output_type": "execute_result",
          "data": {
            "text/html": [
              "\n",
              "  <div id=\"df-1d9d399c-2540-4e3a-8e0c-52f38775c730\">\n",
              "    <div class=\"colab-df-container\">\n",
              "      <div>\n",
              "<style scoped>\n",
              "    .dataframe tbody tr th:only-of-type {\n",
              "        vertical-align: middle;\n",
              "    }\n",
              "\n",
              "    .dataframe tbody tr th {\n",
              "        vertical-align: top;\n",
              "    }\n",
              "\n",
              "    .dataframe thead th {\n",
              "        text-align: right;\n",
              "    }\n",
              "</style>\n",
              "<table border=\"1\" class=\"dataframe\">\n",
              "  <thead>\n",
              "    <tr style=\"text-align: right;\">\n",
              "      <th></th>\n",
              "      <th>title</th>\n",
              "      <th>paragraph</th>\n",
              "      <th>news_list</th>\n",
              "      <th>event_timestamp</th>\n",
              "    </tr>\n",
              "  </thead>\n",
              "  <tbody>\n",
              "    <tr>\n",
              "      <th>0</th>\n",
              "      <td>Will the Covid-19 Grinch cancel a Santa rally ...</td>\n",
              "      <td>OPINION: Stock markets typically trade higher ...</td>\n",
              "      <td>[\"Supplier Market\"]</td>\n",
              "      <td>2021-12-20T12:34:00Z</td>\n",
              "    </tr>\n",
              "    <tr>\n",
              "      <th>1</th>\n",
              "      <td>SPDR S&amp;P XOP ETF In A Multi-Year Uptrend; Buy ...</td>\n",
              "      <td>SPDR S&amp;P Oil &amp; Gas Exploration &amp; Production ET...</td>\n",
              "      <td>[\"Financial Health\"]</td>\n",
              "      <td>2021-12-20T12:31:00Z</td>\n",
              "    </tr>\n",
              "    <tr>\n",
              "      <th>2</th>\n",
              "      <td>Britain reports 10,000 new Omicron cases, ‘maj...</td>\n",
              "      <td>The total number of Omicron cases recorded acr...</td>\n",
              "      <td>[\"Environmental\"]</td>\n",
              "      <td>2021-12-20T12:31:00Z</td>\n",
              "    </tr>\n",
              "    <tr>\n",
              "      <th>3</th>\n",
              "      <td>Risk aversion sentiment continues to percolate</td>\n",
              "      <td>- Risk aversion sentiment on rapid spread of t...</td>\n",
              "      <td>[\"Commodities\"]</td>\n",
              "      <td>2021-12-20T12:30:00Z</td>\n",
              "    </tr>\n",
              "    <tr>\n",
              "      <th>4</th>\n",
              "      <td>Omicron rush on boosters may make it harder to...</td>\n",
              "      <td>Countries are saying three vaccine doses are n...</td>\n",
              "      <td>[\"Commodities\"]</td>\n",
              "      <td>2021-12-20T12:16:00Z</td>\n",
              "    </tr>\n",
              "  </tbody>\n",
              "</table>\n",
              "</div>\n",
              "      <button class=\"colab-df-convert\" onclick=\"convertToInteractive('df-1d9d399c-2540-4e3a-8e0c-52f38775c730')\"\n",
              "              title=\"Convert this dataframe to an interactive table.\"\n",
              "              style=\"display:none;\">\n",
              "        \n",
              "  <svg xmlns=\"http://www.w3.org/2000/svg\" height=\"24px\"viewBox=\"0 0 24 24\"\n",
              "       width=\"24px\">\n",
              "    <path d=\"M0 0h24v24H0V0z\" fill=\"none\"/>\n",
              "    <path d=\"M18.56 5.44l.94 2.06.94-2.06 2.06-.94-2.06-.94-.94-2.06-.94 2.06-2.06.94zm-11 1L8.5 8.5l.94-2.06 2.06-.94-2.06-.94L8.5 2.5l-.94 2.06-2.06.94zm10 10l.94 2.06.94-2.06 2.06-.94-2.06-.94-.94-2.06-.94 2.06-2.06.94z\"/><path d=\"M17.41 7.96l-1.37-1.37c-.4-.4-.92-.59-1.43-.59-.52 0-1.04.2-1.43.59L10.3 9.45l-7.72 7.72c-.78.78-.78 2.05 0 2.83L4 21.41c.39.39.9.59 1.41.59.51 0 1.02-.2 1.41-.59l7.78-7.78 2.81-2.81c.8-.78.8-2.07 0-2.86zM5.41 20L4 18.59l7.72-7.72 1.47 1.35L5.41 20z\"/>\n",
              "  </svg>\n",
              "      </button>\n",
              "      \n",
              "  <style>\n",
              "    .colab-df-container {\n",
              "      display:flex;\n",
              "      flex-wrap:wrap;\n",
              "      gap: 12px;\n",
              "    }\n",
              "\n",
              "    .colab-df-convert {\n",
              "      background-color: #E8F0FE;\n",
              "      border: none;\n",
              "      border-radius: 50%;\n",
              "      cursor: pointer;\n",
              "      display: none;\n",
              "      fill: #1967D2;\n",
              "      height: 32px;\n",
              "      padding: 0 0 0 0;\n",
              "      width: 32px;\n",
              "    }\n",
              "\n",
              "    .colab-df-convert:hover {\n",
              "      background-color: #E2EBFA;\n",
              "      box-shadow: 0px 1px 2px rgba(60, 64, 67, 0.3), 0px 1px 3px 1px rgba(60, 64, 67, 0.15);\n",
              "      fill: #174EA6;\n",
              "    }\n",
              "\n",
              "    [theme=dark] .colab-df-convert {\n",
              "      background-color: #3B4455;\n",
              "      fill: #D2E3FC;\n",
              "    }\n",
              "\n",
              "    [theme=dark] .colab-df-convert:hover {\n",
              "      background-color: #434B5C;\n",
              "      box-shadow: 0px 1px 3px 1px rgba(0, 0, 0, 0.15);\n",
              "      filter: drop-shadow(0px 1px 2px rgba(0, 0, 0, 0.3));\n",
              "      fill: #FFFFFF;\n",
              "    }\n",
              "  </style>\n",
              "\n",
              "      <script>\n",
              "        const buttonEl =\n",
              "          document.querySelector('#df-1d9d399c-2540-4e3a-8e0c-52f38775c730 button.colab-df-convert');\n",
              "        buttonEl.style.display =\n",
              "          google.colab.kernel.accessAllowed ? 'block' : 'none';\n",
              "\n",
              "        async function convertToInteractive(key) {\n",
              "          const element = document.querySelector('#df-1d9d399c-2540-4e3a-8e0c-52f38775c730');\n",
              "          const dataTable =\n",
              "            await google.colab.kernel.invokeFunction('convertToInteractive',\n",
              "                                                     [key], {});\n",
              "          if (!dataTable) return;\n",
              "\n",
              "          const docLinkHtml = 'Like what you see? Visit the ' +\n",
              "            '<a target=\"_blank\" href=https://colab.research.google.com/notebooks/data_table.ipynb>data table notebook</a>'\n",
              "            + ' to learn more about interactive tables.';\n",
              "          element.innerHTML = '';\n",
              "          dataTable['output_type'] = 'display_data';\n",
              "          await google.colab.output.renderOutput(dataTable, element);\n",
              "          const docLink = document.createElement('div');\n",
              "          docLink.innerHTML = docLinkHtml;\n",
              "          element.appendChild(docLink);\n",
              "        }\n",
              "      </script>\n",
              "    </div>\n",
              "  </div>\n",
              "  "
            ],
            "text/plain": [
              "                                               title  ...       event_timestamp\n",
              "0  Will the Covid-19 Grinch cancel a Santa rally ...  ...  2021-12-20T12:34:00Z\n",
              "1  SPDR S&P XOP ETF In A Multi-Year Uptrend; Buy ...  ...  2021-12-20T12:31:00Z\n",
              "2  Britain reports 10,000 new Omicron cases, ‘maj...  ...  2021-12-20T12:31:00Z\n",
              "3     Risk aversion sentiment continues to percolate  ...  2021-12-20T12:30:00Z\n",
              "4  Omicron rush on boosters may make it harder to...  ...  2021-12-20T12:16:00Z\n",
              "\n",
              "[5 rows x 4 columns]"
            ]
          },
          "metadata": {},
          "execution_count": 5
        }
      ]
    },
    {
      "cell_type": "markdown",
      "source": [
        "**General EDA**"
      ],
      "metadata": {
        "id": "EIUouP6dOUzN"
      }
    },
    {
      "cell_type": "code",
      "source": [
        "df.info()"
      ],
      "metadata": {
        "colab": {
          "base_uri": "https://localhost:8080/"
        },
        "id": "C3MJ2zHNpL1k",
        "outputId": "dbaad530-b76c-4626-d4d3-2d8386eee2f3"
      },
      "execution_count": 6,
      "outputs": [
        {
          "output_type": "stream",
          "name": "stdout",
          "text": [
            "<class 'pandas.core.frame.DataFrame'>\n",
            "RangeIndex: 2000 entries, 0 to 1999\n",
            "Data columns (total 4 columns):\n",
            " #   Column           Non-Null Count  Dtype \n",
            "---  ------           --------------  ----- \n",
            " 0   title            2000 non-null   object\n",
            " 1   paragraph        2000 non-null   object\n",
            " 2   news_list        2000 non-null   object\n",
            " 3   event_timestamp  2000 non-null   object\n",
            "dtypes: object(4)\n",
            "memory usage: 62.6+ KB\n"
          ]
        }
      ]
    },
    {
      "cell_type": "code",
      "source": [
        "df.isnull().sum()"
      ],
      "metadata": {
        "colab": {
          "base_uri": "https://localhost:8080/"
        },
        "id": "dWlVC4dEpV9K",
        "outputId": "bfff941b-1a5c-4dfa-cba2-8ee6eb842c14"
      },
      "execution_count": 7,
      "outputs": [
        {
          "output_type": "execute_result",
          "data": {
            "text/plain": [
              "title              0\n",
              "paragraph          0\n",
              "news_list          0\n",
              "event_timestamp    0\n",
              "dtype: int64"
            ]
          },
          "metadata": {},
          "execution_count": 7
        }
      ]
    },
    {
      "cell_type": "code",
      "source": [
        "cat = len(df['news_list'].unique())\n",
        "print(cat)"
      ],
      "metadata": {
        "colab": {
          "base_uri": "https://localhost:8080/"
        },
        "id": "JaMQVmVfaTCV",
        "outputId": "33d7e312-6e57-465d-cfd4-b190ebe833d4"
      },
      "execution_count": 8,
      "outputs": [
        {
          "output_type": "stream",
          "name": "stdout",
          "text": [
            "6\n"
          ]
        }
      ]
    },
    {
      "cell_type": "markdown",
      "source": [
        "**EDA for target Variables**"
      ],
      "metadata": {
        "id": "d_mVMeqEOZLb"
      }
    },
    {
      "cell_type": "code",
      "source": [
        "df['news_list'].value_counts(normalize = True).plot.bar()\n",
        "plt.show()"
      ],
      "metadata": {
        "colab": {
          "base_uri": "https://localhost:8080/",
          "height": 353
        },
        "id": "jbRg_o2zbK2Z",
        "outputId": "ff888f7c-3d02-4937-df23-80308ef849e9"
      },
      "execution_count": 9,
      "outputs": [
        {
          "output_type": "display_data",
          "data": {
            "image/png": "[encoded data removed]",
            "text/plain": [
              "<Figure size 432x288 with 1 Axes>"
            ]
          },
          "metadata": {
            "needs_background": "light"
          }
        }
      ]
    },
    {
      "cell_type": "code",
      "source": [
        "#Checking Examples \n",
        "print(\"Supplier Market Class Title example :\",df[df['news_list']=='[\"Supplier Market\"]']['title'].values[0])\n",
        "print(\"Supplier Market Class Paragraph example :\",df[df['news_list']=='[\"Supplier Market\"]']['paragraph'].values[0])\n",
        "print(\"Financial Health Class Title example :\",df[df['news_list']=='[\"Financial Health\"]']['title'].values[0])\n",
        "print(\"Financial Health Class Paragraph example :\",df[df['news_list']=='[\"Financial Health\"]']['paragraph'].values[0])\n",
        "print(\"Environmental Class Title example :\",df[df['news_list']=='[\"Environmental\"]']['title'].values[0])\n",
        "print(\"Environmental Class Paragraph example :\",df[df['news_list']=='[\"Environmental\"]']['paragraph'].values[0])\n",
        "print(\"Commodities Class Title example :\",df[df['news_list']=='[\"Commodities\"]']['title'].values[0])\n",
        "print(\"Commodities Class Paragraph example :\",df[df['news_list']=='[\"Commodities\"]']['paragraph'].values[0])\n",
        "print(\"Compliance Class Title example :\",df[df['news_list']=='[\"Compliance\"]']['title'].values[0])\n",
        "print(\"Compliance Class Paragraph example :\",df[df['news_list']=='[\"Compliance\"]']['paragraph'].values[0])\n",
        "print(\"Delays Class Title example :\",df[df['news_list']=='[\"Delays\"]']['title'].values[0])\n",
        "print(\"Delays Class Paragraph example :\",df[df['news_list']=='[\"Delays\"]']['paragraph'].values[0])"
      ],
      "metadata": {
        "colab": {
          "base_uri": "https://localhost:8080/"
        },
        "id": "wdSHoc2wjk0-",
        "outputId": "b77d8b51-830f-47d6-9caf-0b9732b35336"
      },
      "execution_count": 45,
      "outputs": [
        {
          "output_type": "stream",
          "name": "stdout",
          "text": [
            "Supplier Market Class Title example : Will the Covid-19 Grinch cancel a Santa rally on the stock markets?\n",
            "Supplier Market Class Paragraph example : OPINION: Stock markets typically trade higher at this time with a ‘Santa rally’ as investors are typically in an ebullient mood, but Omicron could be the Grinch.\n",
            "Financial Health Class Title example : SPDR S&P XOP ETF In A Multi-Year Uptrend; Buy The Dips\n",
            "Financial Health Class Paragraph example : SPDR S&P Oil & Gas Exploration & Production ETF XOP has recently sold off the highs on the back of the new Covid Omicron variant. Check out my trading strategy.\n",
            "Environmental Class Title example : Britain reports 10,000 new Omicron cases, ‘major incident’ declared in London - National\n",
            "Environmental Class Paragraph example : The total number of Omicron cases recorded across the country hit almost 25,000 as of 1800 GMT on Friday, up by more than 10,000 cases from 24 hours earlier.\n",
            "Commodities Class Title example : Risk aversion sentiment continues to percolate\n",
            "Commodities Class Paragraph example : - Risk aversion sentiment on rapid spread of the omicron coronavirus variant and more potential restrictions; String of new Covid-related restrictions\n",
            "Compliance Class Title example : Asian stocks fall on concerns about Omicron variant, tighter Fed policy\n",
            "Compliance Class Paragraph example : \"Omicron threatens to be the Grinch to rob Christmas,\" said Mizuho Bank's Vishnu Varathan. The market \"prefers safety to nasty surprises.\"\n",
            "Delays Class Title example : Europe Braces for More Covid Lockdowns as U.K. Cases Surge\n",
            "Delays Class Paragraph example : Europe is racing to fight a surge in Covid-19 infections and the spread of the omicron variant, with some countries considering additional restrictions that would disrupt the Christmas and New Year’s holidays.\n"
          ]
        }
      ]
    },
    {
      "cell_type": "code",
      "source": [
        "def encoder_funct(df):\n",
        "    encode_y = LabelEncoder()\n",
        "    y = encode_y.fit_transform(df['news_list'])\n",
        "    return y\n",
        "y = encoder_funct(df)\n",
        "df['news_list_encoded'] = y"
      ],
      "metadata": {
        "id": "8ilY9Quhciaj"
      },
      "execution_count": 11,
      "outputs": []
    },
    {
      "cell_type": "code",
      "source": [
        "df.head()"
      ],
      "metadata": {
        "colab": {
          "base_uri": "https://localhost:8080/",
          "height": 206
        },
        "id": "USddvw7_ddsq",
        "outputId": "a217f772-23ff-4d0d-c425-3bdc9a0d642d"
      },
      "execution_count": 12,
      "outputs": [
        {
          "output_type": "execute_result",
          "data": {
            "text/html": [
              "\n",
              "  <div id=\"df-c8dc8d33-749c-475e-a645-1b2797eed4eb\">\n",
              "    <div class=\"colab-df-container\">\n",
              "      <div>\n",
              "<style scoped>\n",
              "    .dataframe tbody tr th:only-of-type {\n",
              "        vertical-align: middle;\n",
              "    }\n",
              "\n",
              "    .dataframe tbody tr th {\n",
              "        vertical-align: top;\n",
              "    }\n",
              "\n",
              "    .dataframe thead th {\n",
              "        text-align: right;\n",
              "    }\n",
              "</style>\n",
              "<table border=\"1\" class=\"dataframe\">\n",
              "  <thead>\n",
              "    <tr style=\"text-align: right;\">\n",
              "      <th></th>\n",
              "      <th>title</th>\n",
              "      <th>paragraph</th>\n",
              "      <th>news_list</th>\n",
              "      <th>event_timestamp</th>\n",
              "      <th>news_list_encoded</th>\n",
              "    </tr>\n",
              "  </thead>\n",
              "  <tbody>\n",
              "    <tr>\n",
              "      <th>0</th>\n",
              "      <td>Will the Covid-19 Grinch cancel a Santa rally ...</td>\n",
              "      <td>OPINION: Stock markets typically trade higher ...</td>\n",
              "      <td>[\"Supplier Market\"]</td>\n",
              "      <td>2021-12-20T12:34:00Z</td>\n",
              "      <td>5</td>\n",
              "    </tr>\n",
              "    <tr>\n",
              "      <th>1</th>\n",
              "      <td>SPDR S&amp;P XOP ETF In A Multi-Year Uptrend; Buy ...</td>\n",
              "      <td>SPDR S&amp;P Oil &amp; Gas Exploration &amp; Production ET...</td>\n",
              "      <td>[\"Financial Health\"]</td>\n",
              "      <td>2021-12-20T12:31:00Z</td>\n",
              "      <td>4</td>\n",
              "    </tr>\n",
              "    <tr>\n",
              "      <th>2</th>\n",
              "      <td>Britain reports 10,000 new Omicron cases, ‘maj...</td>\n",
              "      <td>The total number of Omicron cases recorded acr...</td>\n",
              "      <td>[\"Environmental\"]</td>\n",
              "      <td>2021-12-20T12:31:00Z</td>\n",
              "      <td>3</td>\n",
              "    </tr>\n",
              "    <tr>\n",
              "      <th>3</th>\n",
              "      <td>Risk aversion sentiment continues to percolate</td>\n",
              "      <td>- Risk aversion sentiment on rapid spread of t...</td>\n",
              "      <td>[\"Commodities\"]</td>\n",
              "      <td>2021-12-20T12:30:00Z</td>\n",
              "      <td>0</td>\n",
              "    </tr>\n",
              "    <tr>\n",
              "      <th>4</th>\n",
              "      <td>Omicron rush on boosters may make it harder to...</td>\n",
              "      <td>Countries are saying three vaccine doses are n...</td>\n",
              "      <td>[\"Commodities\"]</td>\n",
              "      <td>2021-12-20T12:16:00Z</td>\n",
              "      <td>0</td>\n",
              "    </tr>\n",
              "  </tbody>\n",
              "</table>\n",
              "</div>\n",
              "      <button class=\"colab-df-convert\" onclick=\"convertToInteractive('df-c8dc8d33-749c-475e-a645-1b2797eed4eb')\"\n",
              "              title=\"Convert this dataframe to an interactive table.\"\n",
              "              style=\"display:none;\">\n",
              "        \n",
              "  <svg xmlns=\"http://www.w3.org/2000/svg\" height=\"24px\"viewBox=\"0 0 24 24\"\n",
              "       width=\"24px\">\n",
              "    <path d=\"M0 0h24v24H0V0z\" fill=\"none\"/>\n",
              "    <path d=\"M18.56 5.44l.94 2.06.94-2.06 2.06-.94-2.06-.94-.94-2.06-.94 2.06-2.06.94zm-11 1L8.5 8.5l.94-2.06 2.06-.94-2.06-.94L8.5 2.5l-.94 2.06-2.06.94zm10 10l.94 2.06.94-2.06 2.06-.94-2.06-.94-.94-2.06-.94 2.06-2.06.94z\"/><path d=\"M17.41 7.96l-1.37-1.37c-.4-.4-.92-.59-1.43-.59-.52 0-1.04.2-1.43.59L10.3 9.45l-7.72 7.72c-.78.78-.78 2.05 0 2.83L4 21.41c.39.39.9.59 1.41.59.51 0 1.02-.2 1.41-.59l7.78-7.78 2.81-2.81c.8-.78.8-2.07 0-2.86zM5.41 20L4 18.59l7.72-7.72 1.47 1.35L5.41 20z\"/>\n",
              "  </svg>\n",
              "      </button>\n",
              "      \n",
              "  <style>\n",
              "    .colab-df-container {\n",
              "      display:flex;\n",
              "      flex-wrap:wrap;\n",
              "      gap: 12px;\n",
              "    }\n",
              "\n",
              "    .colab-df-convert {\n",
              "      background-color: #E8F0FE;\n",
              "      border: none;\n",
              "      border-radius: 50%;\n",
              "      cursor: pointer;\n",
              "      display: none;\n",
              "      fill: #1967D2;\n",
              "      height: 32px;\n",
              "      padding: 0 0 0 0;\n",
              "      width: 32px;\n",
              "    }\n",
              "\n",
              "    .colab-df-convert:hover {\n",
              "      background-color: #E2EBFA;\n",
              "      box-shadow: 0px 1px 2px rgba(60, 64, 67, 0.3), 0px 1px 3px 1px rgba(60, 64, 67, 0.15);\n",
              "      fill: #174EA6;\n",
              "    }\n",
              "\n",
              "    [theme=dark] .colab-df-convert {\n",
              "      background-color: #3B4455;\n",
              "      fill: #D2E3FC;\n",
              "    }\n",
              "\n",
              "    [theme=dark] .colab-df-convert:hover {\n",
              "      background-color: #434B5C;\n",
              "      box-shadow: 0px 1px 3px 1px rgba(0, 0, 0, 0.15);\n",
              "      filter: drop-shadow(0px 1px 2px rgba(0, 0, 0, 0.3));\n",
              "      fill: #FFFFFF;\n",
              "    }\n",
              "  </style>\n",
              "\n",
              "      <script>\n",
              "        const buttonEl =\n",
              "          document.querySelector('#df-c8dc8d33-749c-475e-a645-1b2797eed4eb button.colab-df-convert');\n",
              "        buttonEl.style.display =\n",
              "          google.colab.kernel.accessAllowed ? 'block' : 'none';\n",
              "\n",
              "        async function convertToInteractive(key) {\n",
              "          const element = document.querySelector('#df-c8dc8d33-749c-475e-a645-1b2797eed4eb');\n",
              "          const dataTable =\n",
              "            await google.colab.kernel.invokeFunction('convertToInteractive',\n",
              "                                                     [key], {});\n",
              "          if (!dataTable) return;\n",
              "\n",
              "          const docLinkHtml = 'Like what you see? Visit the ' +\n",
              "            '<a target=\"_blank\" href=https://colab.research.google.com/notebooks/data_table.ipynb>data table notebook</a>'\n",
              "            + ' to learn more about interactive tables.';\n",
              "          element.innerHTML = '';\n",
              "          dataTable['output_type'] = 'display_data';\n",
              "          await google.colab.output.renderOutput(dataTable, element);\n",
              "          const docLink = document.createElement('div');\n",
              "          docLink.innerHTML = docLinkHtml;\n",
              "          element.appendChild(docLink);\n",
              "        }\n",
              "      </script>\n",
              "    </div>\n",
              "  </div>\n",
              "  "
            ],
            "text/plain": [
              "                                               title  ... news_list_encoded\n",
              "0  Will the Covid-19 Grinch cancel a Santa rally ...  ...                 5\n",
              "1  SPDR S&P XOP ETF In A Multi-Year Uptrend; Buy ...  ...                 4\n",
              "2  Britain reports 10,000 new Omicron cases, ‘maj...  ...                 3\n",
              "3     Risk aversion sentiment continues to percolate  ...                 0\n",
              "4  Omicron rush on boosters may make it harder to...  ...                 0\n",
              "\n",
              "[5 rows x 5 columns]"
            ]
          },
          "metadata": {},
          "execution_count": 12
        }
      ]
    },
    {
      "cell_type": "markdown",
      "source": [
        "No stop words removal required.\n"
      ],
      "metadata": {
        "id": "XXjGOk8VftJA"
      }
    },
    {
      "cell_type": "code",
      "source": [
        "#Checking if data contains URLs\n",
        "for pseudo_url in df['paragraph']:\n",
        "    m = re.search(\"(?P<url>https?://[^\\s]+)\", pseudo_url)\n",
        "    if m:\n",
        "        print(m.group(\"url\"))\n",
        "        \n",
        "for pseudo_url in df['title']:\n",
        "    u = re.search(\"(?P<url>https?://[^\\s]+)\", pseudo_url)\n",
        "    if u:\n",
        "        print(u.group(\"url\"))"
      ],
      "metadata": {
        "colab": {
          "base_uri": "https://localhost:8080/"
        },
        "id": "b-1OP88_tgI-",
        "outputId": "4a5014b6-5075-40df-d776-6d95ea293d15"
      },
      "execution_count": 13,
      "outputs": [
        {
          "output_type": "stream",
          "name": "stdout",
          "text": [
            "https://www.reuters.com/business/healthcare-pharmaceuticals/how-worried-should-we-be-about-omicron-variant-2021-12-14\n"
          ]
        }
      ]
    },
    {
      "cell_type": "code",
      "source": [
        "#Removes URLs from the text, removes punctuation and removes words containing numbers\n",
        "def clean_text(text):\n",
        "    text = text.lower()\n",
        "    text = re.sub('\\[.*?\\]', '', text)\n",
        "    text = re.sub('https?://\\S+|www\\.\\S+', '', text)\n",
        "    text = re.sub('<.*?>+', '', text)\n",
        "    text = re.sub('[%s]' % re.escape(string.punctuation), '', text)\n",
        "    text = re.sub('\\n', '', text)\n",
        "    text = re.sub('\\w*\\d\\w*', '', text)\n",
        "    return text\n",
        "\n",
        "def text_preprocessing(text):\n",
        "    tokenizer = nltk.tokenize.RegexpTokenizer(r'\\w+')\n",
        "    nopunc = clean_text(text)\n",
        "    tokenized_text = tokenizer.tokenize(nopunc)\n",
        "    combined_text = ' '.join(tokenized_text)\n",
        "    return combined_text"
      ],
      "metadata": {
        "id": "uDv0PBhFdrRo"
      },
      "execution_count": 14,
      "outputs": []
    },
    {
      "cell_type": "code",
      "source": [
        "#Creating seperate columns for clean text\n",
        "df['title_clean'] = df['title'].apply(str).apply(lambda x: text_preprocessing(x))\n",
        "df['paragraph_clean'] = df['paragraph'].apply(str).apply(lambda x: text_preprocessing(x))"
      ],
      "metadata": {
        "id": "FCMgmXdgtGlS"
      },
      "execution_count": 50,
      "outputs": []
    },
    {
      "cell_type": "code",
      "source": [
        "df.head()"
      ],
      "metadata": {
        "colab": {
          "base_uri": "https://localhost:8080/",
          "height": 337
        },
        "id": "tPkJO4g8tzPN",
        "outputId": "55abea9a-e9f4-4ec6-d939-e45450cf190c"
      },
      "execution_count": 16,
      "outputs": [
        {
          "output_type": "execute_result",
          "data": {
            "text/html": [
              "\n",
              "  <div id=\"df-d7ea8611-b84b-492c-a75f-d013d1a9ea13\">\n",
              "    <div class=\"colab-df-container\">\n",
              "      <div>\n",
              "<style scoped>\n",
              "    .dataframe tbody tr th:only-of-type {\n",
              "        vertical-align: middle;\n",
              "    }\n",
              "\n",
              "    .dataframe tbody tr th {\n",
              "        vertical-align: top;\n",
              "    }\n",
              "\n",
              "    .dataframe thead th {\n",
              "        text-align: right;\n",
              "    }\n",
              "</style>\n",
              "<table border=\"1\" class=\"dataframe\">\n",
              "  <thead>\n",
              "    <tr style=\"text-align: right;\">\n",
              "      <th></th>\n",
              "      <th>title</th>\n",
              "      <th>paragraph</th>\n",
              "      <th>news_list</th>\n",
              "      <th>event_timestamp</th>\n",
              "      <th>news_list_encoded</th>\n",
              "      <th>title_clean</th>\n",
              "      <th>paragraph_clean</th>\n",
              "    </tr>\n",
              "  </thead>\n",
              "  <tbody>\n",
              "    <tr>\n",
              "      <th>0</th>\n",
              "      <td>Will the Covid-19 Grinch cancel a Santa rally ...</td>\n",
              "      <td>OPINION: Stock markets typically trade higher ...</td>\n",
              "      <td>[\"Supplier Market\"]</td>\n",
              "      <td>2021-12-20T12:34:00Z</td>\n",
              "      <td>5</td>\n",
              "      <td>will the grinch cancel a santa rally on the st...</td>\n",
              "      <td>opinion stock markets typically trade higher a...</td>\n",
              "    </tr>\n",
              "    <tr>\n",
              "      <th>1</th>\n",
              "      <td>SPDR S&amp;P XOP ETF In A Multi-Year Uptrend; Buy ...</td>\n",
              "      <td>SPDR S&amp;P Oil &amp; Gas Exploration &amp; Production ET...</td>\n",
              "      <td>[\"Financial Health\"]</td>\n",
              "      <td>2021-12-20T12:31:00Z</td>\n",
              "      <td>4</td>\n",
              "      <td>spdr sp xop etf in a multiyear uptrend buy the...</td>\n",
              "      <td>spdr sp oil gas exploration production etf xop...</td>\n",
              "    </tr>\n",
              "    <tr>\n",
              "      <th>2</th>\n",
              "      <td>Britain reports 10,000 new Omicron cases, ‘maj...</td>\n",
              "      <td>The total number of Omicron cases recorded acr...</td>\n",
              "      <td>[\"Environmental\"]</td>\n",
              "      <td>2021-12-20T12:31:00Z</td>\n",
              "      <td>3</td>\n",
              "      <td>britain reports new omicron cases major incide...</td>\n",
              "      <td>the total number of omicron cases recorded acr...</td>\n",
              "    </tr>\n",
              "    <tr>\n",
              "      <th>3</th>\n",
              "      <td>Risk aversion sentiment continues to percolate</td>\n",
              "      <td>- Risk aversion sentiment on rapid spread of t...</td>\n",
              "      <td>[\"Commodities\"]</td>\n",
              "      <td>2021-12-20T12:30:00Z</td>\n",
              "      <td>0</td>\n",
              "      <td>risk aversion sentiment continues to percolate</td>\n",
              "      <td>risk aversion sentiment on rapid spread of the...</td>\n",
              "    </tr>\n",
              "    <tr>\n",
              "      <th>4</th>\n",
              "      <td>Omicron rush on boosters may make it harder to...</td>\n",
              "      <td>Countries are saying three vaccine doses are n...</td>\n",
              "      <td>[\"Commodities\"]</td>\n",
              "      <td>2021-12-20T12:16:00Z</td>\n",
              "      <td>0</td>\n",
              "      <td>omicron rush on boosters may make it harder to...</td>\n",
              "      <td>countries are saying three vaccine doses are n...</td>\n",
              "    </tr>\n",
              "  </tbody>\n",
              "</table>\n",
              "</div>\n",
              "      <button class=\"colab-df-convert\" onclick=\"convertToInteractive('df-d7ea8611-b84b-492c-a75f-d013d1a9ea13')\"\n",
              "              title=\"Convert this dataframe to an interactive table.\"\n",
              "              style=\"display:none;\">\n",
              "        \n",
              "  <svg xmlns=\"http://www.w3.org/2000/svg\" height=\"24px\"viewBox=\"0 0 24 24\"\n",
              "       width=\"24px\">\n",
              "    <path d=\"M0 0h24v24H0V0z\" fill=\"none\"/>\n",
              "    <path d=\"M18.56 5.44l.94 2.06.94-2.06 2.06-.94-2.06-.94-.94-2.06-.94 2.06-2.06.94zm-11 1L8.5 8.5l.94-2.06 2.06-.94-2.06-.94L8.5 2.5l-.94 2.06-2.06.94zm10 10l.94 2.06.94-2.06 2.06-.94-2.06-.94-.94-2.06-.94 2.06-2.06.94z\"/><path d=\"M17.41 7.96l-1.37-1.37c-.4-.4-.92-.59-1.43-.59-.52 0-1.04.2-1.43.59L10.3 9.45l-7.72 7.72c-.78.78-.78 2.05 0 2.83L4 21.41c.39.39.9.59 1.41.59.51 0 1.02-.2 1.41-.59l7.78-7.78 2.81-2.81c.8-.78.8-2.07 0-2.86zM5.41 20L4 18.59l7.72-7.72 1.47 1.35L5.41 20z\"/>\n",
              "  </svg>\n",
              "      </button>\n",
              "      \n",
              "  <style>\n",
              "    .colab-df-container {\n",
              "      display:flex;\n",
              "      flex-wrap:wrap;\n",
              "      gap: 12px;\n",
              "    }\n",
              "\n",
              "    .colab-df-convert {\n",
              "      background-color: #E8F0FE;\n",
              "      border: none;\n",
              "      border-radius: 50%;\n",
              "      cursor: pointer;\n",
              "      display: none;\n",
              "      fill: #1967D2;\n",
              "      height: 32px;\n",
              "      padding: 0 0 0 0;\n",
              "      width: 32px;\n",
              "    }\n",
              "\n",
              "    .colab-df-convert:hover {\n",
              "      background-color: #E2EBFA;\n",
              "      box-shadow: 0px 1px 2px rgba(60, 64, 67, 0.3), 0px 1px 3px 1px rgba(60, 64, 67, 0.15);\n",
              "      fill: #174EA6;\n",
              "    }\n",
              "\n",
              "    [theme=dark] .colab-df-convert {\n",
              "      background-color: #3B4455;\n",
              "      fill: #D2E3FC;\n",
              "    }\n",
              "\n",
              "    [theme=dark] .colab-df-convert:hover {\n",
              "      background-color: #434B5C;\n",
              "      box-shadow: 0px 1px 3px 1px rgba(0, 0, 0, 0.15);\n",
              "      filter: drop-shadow(0px 1px 2px rgba(0, 0, 0, 0.3));\n",
              "      fill: #FFFFFF;\n",
              "    }\n",
              "  </style>\n",
              "\n",
              "      <script>\n",
              "        const buttonEl =\n",
              "          document.querySelector('#df-d7ea8611-b84b-492c-a75f-d013d1a9ea13 button.colab-df-convert');\n",
              "        buttonEl.style.display =\n",
              "          google.colab.kernel.accessAllowed ? 'block' : 'none';\n",
              "\n",
              "        async function convertToInteractive(key) {\n",
              "          const element = document.querySelector('#df-d7ea8611-b84b-492c-a75f-d013d1a9ea13');\n",
              "          const dataTable =\n",
              "            await google.colab.kernel.invokeFunction('convertToInteractive',\n",
              "                                                     [key], {});\n",
              "          if (!dataTable) return;\n",
              "\n",
              "          const docLinkHtml = 'Like what you see? Visit the ' +\n",
              "            '<a target=\"_blank\" href=https://colab.research.google.com/notebooks/data_table.ipynb>data table notebook</a>'\n",
              "            + ' to learn more about interactive tables.';\n",
              "          element.innerHTML = '';\n",
              "          dataTable['output_type'] = 'display_data';\n",
              "          await google.colab.output.renderOutput(dataTable, element);\n",
              "          const docLink = document.createElement('div');\n",
              "          docLink.innerHTML = docLinkHtml;\n",
              "          element.appendChild(docLink);\n",
              "        }\n",
              "      </script>\n",
              "    </div>\n",
              "  </div>\n",
              "  "
            ],
            "text/plain": [
              "                                               title  ...                                    paragraph_clean\n",
              "0  Will the Covid-19 Grinch cancel a Santa rally ...  ...  opinion stock markets typically trade higher a...\n",
              "1  SPDR S&P XOP ETF In A Multi-Year Uptrend; Buy ...  ...  spdr sp oil gas exploration production etf xop...\n",
              "2  Britain reports 10,000 new Omicron cases, ‘maj...  ...  the total number of omicron cases recorded acr...\n",
              "3     Risk aversion sentiment continues to percolate  ...  risk aversion sentiment on rapid spread of the...\n",
              "4  Omicron rush on boosters may make it harder to...  ...  countries are saying three vaccine doses are n...\n",
              "\n",
              "[5 rows x 7 columns]"
            ]
          },
          "metadata": {},
          "execution_count": 16
        }
      ]
    },
    {
      "cell_type": "code",
      "source": [
        "#Title lengths\n",
        "t = []\n",
        "for i in df['title_clean']:\n",
        "  t.append(len(i))\n",
        "sns.histplot(t,bins = 100)\n",
        "plt.show()"
      ],
      "metadata": {
        "colab": {
          "base_uri": "https://localhost:8080/",
          "height": 265
        },
        "id": "AlNljFyVBVk4",
        "outputId": "2f251426-89e9-44c7-f700-969f51628f5f"
      },
      "execution_count": 17,
      "outputs": [
        {
          "output_type": "display_data",
          "data": {
            "image/png": "[encoded data removed]",
            "text/plain": [
              "<Figure size 432x288 with 1 Axes>"
            ]
          },
          "metadata": {
            "needs_background": "light"
          }
        }
      ]
    },
    {
      "cell_type": "code",
      "source": [
        "#Paragraph lengths\n",
        "p = []\n",
        "for i in df['paragraph_clean']:\n",
        "  p.append(len(i))\n",
        "sns.histplot(p,bins = 10)\n",
        "plt.show()\n",
        "\n",
        "print('The mode of lengths of the paragraph is:', mode(p))\n",
        "print('The median of lengths of the paragraph is:', median(p))\n",
        "print('The mean of lengths of the paragraph is:', mean(p))"
      ],
      "metadata": {
        "colab": {
          "base_uri": "https://localhost:8080/",
          "height": 317
        },
        "id": "S88w_kG9BphE",
        "outputId": "e80bb722-d66b-4500-fc69-a33bc4af6dcb"
      },
      "execution_count": 18,
      "outputs": [
        {
          "output_type": "display_data",
          "data": {
            "image/png": "[encoded data removed]",
            "text/plain": [
              "<Figure size 432x288 with 1 Axes>"
            ]
          },
          "metadata": {
            "needs_background": "light"
          }
        },
        {
          "output_type": "stream",
          "name": "stdout",
          "text": [
            "The mode of lengths of the paragraph is: 150\n",
            "The median of lengths of the paragraph is: 155.0\n",
            "The mean of lengths of the paragraph is: 223.2155\n"
          ]
        }
      ]
    },
    {
      "cell_type": "markdown",
      "source": [
        "Two different sentences. Titles and paragraphs. Pass two seperate sentences and seperate them using [SEP] token. Pass two sentences seperately in the BERT tokenizer."
      ],
      "metadata": {
        "id": "8vc4I2xDHq-g"
      }
    },
    {
      "cell_type": "code",
      "source": [
        "def get_top_n_words(corpus, n=None):\n",
        "    \"\"\"\n",
        "    List the top n words (unigrams) in a vocabulary according to occurrence in a text corpus.\n",
        "    \"\"\"\n",
        "    vec = CountVectorizer(stop_words = 'english').fit(corpus)\n",
        "    bag_of_words = vec.transform(corpus)\n",
        "    sum_words = bag_of_words.sum(axis=0) \n",
        "    words_freq = [(word, sum_words[0, idx]) for word, idx in vec.vocabulary_.items()]\n",
        "    words_freq =sorted(words_freq, key = lambda x: x[1], reverse=True)\n",
        "    return words_freq[:n]"
      ],
      "metadata": {
        "id": "WueOKm19DFdo"
      },
      "execution_count": 19,
      "outputs": []
    },
    {
      "cell_type": "code",
      "source": [
        "df_sm = df[df['news_list']=='[\"Supplier Market\"]']\n",
        "df_fh = df[df['news_list']=='[\"Financial Health\"]']\n",
        "df_env = df[df['news_list']=='[\"Environmental\"]']\n",
        "df_comm = df[df['news_list']=='[\"Commodities\"]']\n",
        "df_d = df[df['news_list']=='[\"Delays\"]']\n",
        "df_comp = df[df['news_list']=='[\"Compliance\"]']"
      ],
      "metadata": {
        "id": "g5EwEr2VDMPJ"
      },
      "execution_count": 20,
      "outputs": []
    },
    {
      "cell_type": "code",
      "source": [
        "smt = get_top_n_words(df_sm['title_clean'],n=20)\n",
        "smp = get_top_n_words(df_sm['paragraph_clean'],n=20)\n",
        "indt = []\n",
        "fret = []\n",
        "for item in smt:\n",
        "   indt.append(item[0])\n",
        "   fret.append(item[1])\n",
        "\n",
        "indp = []\n",
        "frep = []\n",
        "for item in smp:\n",
        "   indp.append(item[0])\n",
        "   frep.append(item[1])\n",
        "\n",
        "plt.rcParams[\"figure.figsize\"] = [15, 7]\n",
        "plt.rcParams[\"figure.autolayout\"] = True\n",
        "plt.bar(indt,fret)\n",
        "# plt.bar(indp,frep)\n",
        "plt.xlabel('Top Unigrams in titles')\n",
        "plt.ylabel('Frequency')\n",
        "plt.xticks(rotation = 90)\n",
        "plt.show()\n",
        "\n",
        "\n",
        "plt.rcParams[\"figure.figsize\"] = [15, 7]\n",
        "plt.rcParams[\"figure.autolayout\"] = True\n",
        "#plt.bar(indt,fret)\n",
        "plt.bar(indp,frep)\n",
        "plt.xlabel('Top Unigrams in paragraphs')\n",
        "plt.ylabel('Frequency')\n",
        "plt.xticks(rotation = 90)\n",
        "plt.show()"
      ],
      "metadata": {
        "colab": {
          "base_uri": "https://localhost:8080/",
          "height": 1000
        },
        "id": "q2PE0anXrNdh",
        "outputId": "3ca0db47-3916-42ec-b0c7-51b095890a72"
      },
      "execution_count": 21,
      "outputs": [
        {
          "output_type": "display_data",
          "data": {
            "image/png": "[encoded data removed]",
            "text/plain": [
              "<Figure size 1080x504 with 1 Axes>"
            ]
          },
          "metadata": {
            "needs_background": "light"
          }
        },
        {
          "output_type": "display_data",
          "data": {
            "image/png": "[encoded data removed]",
            "text/plain": [
              "<Figure size 1080x504 with 1 Axes>"
            ]
          },
          "metadata": {
            "needs_background": "light"
          }
        }
      ]
    },
    {
      "cell_type": "code",
      "source": [
        "fht = get_top_n_words(df_fh['title_clean'],n=20)\n",
        "fhp = get_top_n_words(df_fh['paragraph_clean'],n=20)\n",
        "indt = []\n",
        "fret = []\n",
        "for item in fht:\n",
        "   indt.append(item[0])\n",
        "   fret.append(item[1])\n",
        "\n",
        "indp = []\n",
        "frep = []\n",
        "for item in fhp:\n",
        "   indp.append(item[0])\n",
        "   frep.append(item[1])\n",
        "\n",
        "plt.rcParams[\"figure.figsize\"] = [15, 7]\n",
        "plt.rcParams[\"figure.autolayout\"] = True\n",
        "plt.bar(indt,fret)\n",
        "# plt.bar(indp,frep)\n",
        "plt.xlabel('Top Unigrams in titles')\n",
        "plt.ylabel('Frequency')\n",
        "plt.xticks(rotation = 90)\n",
        "plt.show()\n",
        "\n",
        "\n",
        "plt.rcParams[\"figure.figsize\"] = [15, 7]\n",
        "plt.rcParams[\"figure.autolayout\"] = True\n",
        "#plt.bar(indt,fret)\n",
        "plt.bar(indp,frep)\n",
        "plt.xlabel('Top Unigrams in paragraphs')\n",
        "plt.ylabel('Frequency')\n",
        "plt.xticks(rotation = 90)\n",
        "plt.show()"
      ],
      "metadata": {
        "colab": {
          "base_uri": "https://localhost:8080/",
          "height": 1000
        },
        "id": "0NW8huun1u2v",
        "outputId": "6e34187e-28fb-4d75-e8ca-4859a334da16"
      },
      "execution_count": 22,
      "outputs": [
        {
          "output_type": "display_data",
          "data": {
            "image/png": "[encoded data removed]",
            "text/plain": [
              "<Figure size 1080x504 with 1 Axes>"
            ]
          },
          "metadata": {
            "needs_background": "light"
          }
        },
        {
          "output_type": "display_data",
          "data": {
            "image/png": "[encoded data removed]",
            "text/plain": [
              "<Figure size 1080x504 with 1 Axes>"
            ]
          },
          "metadata": {
            "needs_background": "light"
          }
        }
      ]
    },
    {
      "cell_type": "code",
      "source": [
        "envt = get_top_n_words(df_env['title_clean'],n=20)\n",
        "envp = get_top_n_words(df_env['paragraph_clean'],n=20)\n",
        "indt = []\n",
        "fret = []\n",
        "for item in envt:\n",
        "   indt.append(item[0])\n",
        "   fret.append(item[1])\n",
        "\n",
        "indp = []\n",
        "frep = []\n",
        "for item in envp:\n",
        "   indp.append(item[0])\n",
        "   frep.append(item[1])\n",
        "\n",
        "plt.rcParams[\"figure.figsize\"] = [15, 7]\n",
        "plt.rcParams[\"figure.autolayout\"] = True\n",
        "plt.bar(indt,fret)\n",
        "# plt.bar(indp,frep)\n",
        "plt.xlabel('Top Unigrams in titles')\n",
        "plt.ylabel('Frequency')\n",
        "plt.xticks(rotation = 90)\n",
        "plt.show()\n",
        "\n",
        "\n",
        "plt.rcParams[\"figure.figsize\"] = [15, 7]\n",
        "plt.rcParams[\"figure.autolayout\"] = True\n",
        "#plt.bar(indt,fret)\n",
        "plt.bar(indp,frep)\n",
        "plt.xlabel('Top Unigrams in paragraphs')\n",
        "plt.ylabel('Frequency')\n",
        "plt.xticks(rotation = 90)\n",
        "plt.show()"
      ],
      "metadata": {
        "colab": {
          "base_uri": "https://localhost:8080/",
          "height": 1000
        },
        "id": "y-tgnXJh2F-b",
        "outputId": "a84bbeb8-4ea3-4e22-c2a9-74ebe8be43d9"
      },
      "execution_count": 23,
      "outputs": [
        {
          "output_type": "display_data",
          "data": {
            "image/png": "[encoded data removed]",
            "text/plain": [
              "<Figure size 1080x504 with 1 Axes>"
            ]
          },
          "metadata": {
            "needs_background": "light"
          }
        },
        {
          "output_type": "display_data",
          "data": {
            "image/png": "[encoded data removed]",
            "text/plain": [
              "<Figure size 1080x504 with 1 Axes>"
            ]
          },
          "metadata": {
            "needs_background": "light"
          }
        }
      ]
    },
    {
      "cell_type": "code",
      "source": [
        "commt = get_top_n_words(df_comm['title_clean'],n=20)\n",
        "commp = get_top_n_words(df_comm['paragraph_clean'],n=20)\n",
        "indt = []\n",
        "fret = []\n",
        "for item in commt:\n",
        "   indt.append(item[0])\n",
        "   fret.append(item[1])\n",
        "\n",
        "indp = []\n",
        "frep = []\n",
        "for item in commp:\n",
        "   indp.append(item[0])\n",
        "   frep.append(item[1])\n",
        "\n",
        "plt.rcParams[\"figure.figsize\"] = [15, 7]\n",
        "plt.rcParams[\"figure.autolayout\"] = True\n",
        "plt.bar(indt,fret)\n",
        "# plt.bar(indp,frep)\n",
        "plt.xlabel('Top Unigrams in titles')\n",
        "plt.ylabel('Frequency')\n",
        "plt.xticks(rotation = 90)\n",
        "plt.show()\n",
        "\n",
        "\n",
        "plt.rcParams[\"figure.figsize\"] = [15, 7]\n",
        "plt.rcParams[\"figure.autolayout\"] = True\n",
        "#plt.bar(indt,fret)\n",
        "plt.bar(indp,frep)\n",
        "plt.xlabel('Top Unigrams in paragraphs')\n",
        "plt.ylabel('Frequency')\n",
        "plt.xticks(rotation = 90)\n",
        "plt.show()"
      ],
      "metadata": {
        "colab": {
          "base_uri": "https://localhost:8080/",
          "height": 1000
        },
        "id": "6PuQGztX2hit",
        "outputId": "0387eff5-2df0-4bbb-e8a9-6e216b29d5dd"
      },
      "execution_count": 24,
      "outputs": [
        {
          "output_type": "display_data",
          "data": {
            "image/png": "[encoded data removed]",
            "text/plain": [
              "<Figure size 1080x504 with 1 Axes>"
            ]
          },
          "metadata": {
            "needs_background": "light"
          }
        },
        {
          "output_type": "display_data",
          "data": {
            "image/png": "[encoded data removed]",
            "text/plain": [
              "<Figure size 1080x504 with 1 Axes>"
            ]
          },
          "metadata": {
            "needs_background": "light"
          }
        }
      ]
    },
    {
      "cell_type": "code",
      "source": [
        "dt = get_top_n_words(df_d['title_clean'],n=20)\n",
        "dp = get_top_n_words(df_d['paragraph_clean'],n=20)\n",
        "indt = []\n",
        "fret = []\n",
        "for item in dt:\n",
        "   indt.append(item[0])\n",
        "   fret.append(item[1])\n",
        "\n",
        "indp = []\n",
        "frep = []\n",
        "for item in dp:\n",
        "   indp.append(item[0])\n",
        "   frep.append(item[1])\n",
        "\n",
        "plt.rcParams[\"figure.figsize\"] = [15, 7]\n",
        "plt.rcParams[\"figure.autolayout\"] = True\n",
        "plt.bar(indt,fret)\n",
        "# plt.bar(indp,frep)\n",
        "plt.xlabel('Top Unigrams in titles')\n",
        "plt.ylabel('Frequency')\n",
        "plt.xticks(rotation = 90)\n",
        "plt.show()\n",
        "\n",
        "\n",
        "plt.rcParams[\"figure.figsize\"] = [15, 7]\n",
        "plt.rcParams[\"figure.autolayout\"] = True\n",
        "#plt.bar(indt,fret)\n",
        "plt.bar(indp,frep)\n",
        "plt.xlabel('Top Unigrams in paragraphs')\n",
        "plt.ylabel('Frequency')\n",
        "plt.xticks(rotation = 90)\n",
        "plt.show()"
      ],
      "metadata": {
        "colab": {
          "base_uri": "https://localhost:8080/",
          "height": 1000
        },
        "id": "ov4BGTqo28ey",
        "outputId": "0c57c48f-3185-4e13-dbb7-cc548006dfb7"
      },
      "execution_count": 25,
      "outputs": [
        {
          "output_type": "display_data",
          "data": {
            "image/png": "[encoded data removed]",
            "text/plain": [
              "<Figure size 1080x504 with 1 Axes>"
            ]
          },
          "metadata": {
            "needs_background": "light"
          }
        },
        {
          "output_type": "display_data",
          "data": {
            "image/png": "[encoded data removed]",
            "text/plain": [
              "<Figure size 1080x504 with 1 Axes>"
            ]
          },
          "metadata": {
            "needs_background": "light"
          }
        }
      ]
    },
    {
      "cell_type": "code",
      "source": [
        "compt = get_top_n_words(df_comp['title_clean'],n=20)\n",
        "compp = get_top_n_words(df_comp['paragraph_clean'],n=20)\n",
        "indt = []\n",
        "fret = []\n",
        "for item in compt:\n",
        "   indt.append(item[0])\n",
        "   fret.append(item[1])\n",
        "\n",
        "indp = []\n",
        "frep = []\n",
        "for item in compp:\n",
        "   indp.append(item[0])\n",
        "   frep.append(item[1])\n",
        "\n",
        "plt.rcParams[\"figure.figsize\"] = [15, 7]\n",
        "plt.rcParams[\"figure.autolayout\"] = True\n",
        "plt.bar(indt,fret)\n",
        "# plt.bar(indp,frep)\n",
        "plt.xlabel('Top Unigrams in titles')\n",
        "plt.ylabel('Frequency')\n",
        "plt.xticks(rotation = 90)\n",
        "plt.show()\n",
        "\n",
        "\n",
        "plt.rcParams[\"figure.figsize\"] = [15, 7]\n",
        "plt.rcParams[\"figure.autolayout\"] = True\n",
        "#plt.bar(indt,fret)\n",
        "plt.bar(indp,frep)\n",
        "plt.xlabel('Top Unigrams in paragraphs')\n",
        "plt.ylabel('Frequency')\n",
        "plt.xticks(rotation = 90)\n",
        "plt.show()"
      ],
      "metadata": {
        "colab": {
          "base_uri": "https://localhost:8080/",
          "height": 1000
        },
        "id": "eHffTrC_3KKg",
        "outputId": "a528cd32-e113-46a8-fad1-0048ed2622d8"
      },
      "execution_count": 26,
      "outputs": [
        {
          "output_type": "display_data",
          "data": {
            "image/png": "[encoded data removed]",
            "text/plain": [
              "<Figure size 1080x504 with 1 Axes>"
            ]
          },
          "metadata": {
            "needs_background": "light"
          }
        },
        {
          "output_type": "display_data",
          "data": {
            "image/png": "[encoded data removed]",
            "text/plain": [
              "<Figure size 1080x504 with 1 Axes>"
            ]
          },
          "metadata": {
            "needs_background": "light"
          }
        }
      ]
    },
    {
      "cell_type": "code",
      "source": [
        "df.columns"
      ],
      "metadata": {
        "colab": {
          "base_uri": "https://localhost:8080/"
        },
        "id": "oj-MN6a53ca6",
        "outputId": "1d87e504-2221-4e96-81a4-2e1b982aca2a"
      },
      "execution_count": 27,
      "outputs": [
        {
          "output_type": "execute_result",
          "data": {
            "text/plain": [
              "Index(['title', 'paragraph', 'news_list', 'event_timestamp',\n",
              "       'news_list_encoded', 'title_clean', 'paragraph_clean'],\n",
              "      dtype='object')"
            ]
          },
          "metadata": {},
          "execution_count": 27
        }
      ]
    },
    {
      "cell_type": "code",
      "source": [
        "df_final = df[['title_clean','paragraph_clean','news_list_encoded']]"
      ],
      "metadata": {
        "id": "1hp1Jwx_DwyM"
      },
      "execution_count": 28,
      "outputs": []
    },
    {
      "cell_type": "code",
      "source": [
        "df_final.head()"
      ],
      "metadata": {
        "colab": {
          "base_uri": "https://localhost:8080/",
          "height": 206
        },
        "id": "ho8kjtrID_ke",
        "outputId": "0d6274db-62a5-4b03-f99d-6139e266bca3"
      },
      "execution_count": 29,
      "outputs": [
        {
          "output_type": "execute_result",
          "data": {
            "text/html": [
              "\n",
              "  <div id=\"df-a970b4eb-d0c9-4283-b080-99ed28b4858d\">\n",
              "    <div class=\"colab-df-container\">\n",
              "      <div>\n",
              "<style scoped>\n",
              "    .dataframe tbody tr th:only-of-type {\n",
              "        vertical-align: middle;\n",
              "    }\n",
              "\n",
              "    .dataframe tbody tr th {\n",
              "        vertical-align: top;\n",
              "    }\n",
              "\n",
              "    .dataframe thead th {\n",
              "        text-align: right;\n",
              "    }\n",
              "</style>\n",
              "<table border=\"1\" class=\"dataframe\">\n",
              "  <thead>\n",
              "    <tr style=\"text-align: right;\">\n",
              "      <th></th>\n",
              "      <th>title_clean</th>\n",
              "      <th>paragraph_clean</th>\n",
              "      <th>news_list_encoded</th>\n",
              "    </tr>\n",
              "  </thead>\n",
              "  <tbody>\n",
              "    <tr>\n",
              "      <th>0</th>\n",
              "      <td>will the grinch cancel a santa rally on the st...</td>\n",
              "      <td>opinion stock markets typically trade higher a...</td>\n",
              "      <td>5</td>\n",
              "    </tr>\n",
              "    <tr>\n",
              "      <th>1</th>\n",
              "      <td>spdr sp xop etf in a multiyear uptrend buy the...</td>\n",
              "      <td>spdr sp oil gas exploration production etf xop...</td>\n",
              "      <td>4</td>\n",
              "    </tr>\n",
              "    <tr>\n",
              "      <th>2</th>\n",
              "      <td>britain reports new omicron cases major incide...</td>\n",
              "      <td>the total number of omicron cases recorded acr...</td>\n",
              "      <td>3</td>\n",
              "    </tr>\n",
              "    <tr>\n",
              "      <th>3</th>\n",
              "      <td>risk aversion sentiment continues to percolate</td>\n",
              "      <td>risk aversion sentiment on rapid spread of the...</td>\n",
              "      <td>0</td>\n",
              "    </tr>\n",
              "    <tr>\n",
              "      <th>4</th>\n",
              "      <td>omicron rush on boosters may make it harder to...</td>\n",
              "      <td>countries are saying three vaccine doses are n...</td>\n",
              "      <td>0</td>\n",
              "    </tr>\n",
              "  </tbody>\n",
              "</table>\n",
              "</div>\n",
              "      <button class=\"colab-df-convert\" onclick=\"convertToInteractive('df-a970b4eb-d0c9-4283-b080-99ed28b4858d')\"\n",
              "              title=\"Convert this dataframe to an interactive table.\"\n",
              "              style=\"display:none;\">\n",
              "        \n",
              "  <svg xmlns=\"http://www.w3.org/2000/svg\" height=\"24px\"viewBox=\"0 0 24 24\"\n",
              "       width=\"24px\">\n",
              "    <path d=\"M0 0h24v24H0V0z\" fill=\"none\"/>\n",
              "    <path d=\"M18.56 5.44l.94 2.06.94-2.06 2.06-.94-2.06-.94-.94-2.06-.94 2.06-2.06.94zm-11 1L8.5 8.5l.94-2.06 2.06-.94-2.06-.94L8.5 2.5l-.94 2.06-2.06.94zm10 10l.94 2.06.94-2.06 2.06-.94-2.06-.94-.94-2.06-.94 2.06-2.06.94z\"/><path d=\"M17.41 7.96l-1.37-1.37c-.4-.4-.92-.59-1.43-.59-.52 0-1.04.2-1.43.59L10.3 9.45l-7.72 7.72c-.78.78-.78 2.05 0 2.83L4 21.41c.39.39.9.59 1.41.59.51 0 1.02-.2 1.41-.59l7.78-7.78 2.81-2.81c.8-.78.8-2.07 0-2.86zM5.41 20L4 18.59l7.72-7.72 1.47 1.35L5.41 20z\"/>\n",
              "  </svg>\n",
              "      </button>\n",
              "      \n",
              "  <style>\n",
              "    .colab-df-container {\n",
              "      display:flex;\n",
              "      flex-wrap:wrap;\n",
              "      gap: 12px;\n",
              "    }\n",
              "\n",
              "    .colab-df-convert {\n",
              "      background-color: #E8F0FE;\n",
              "      border: none;\n",
              "      border-radius: 50%;\n",
              "      cursor: pointer;\n",
              "      display: none;\n",
              "      fill: #1967D2;\n",
              "      height: 32px;\n",
              "      padding: 0 0 0 0;\n",
              "      width: 32px;\n",
              "    }\n",
              "\n",
              "    .colab-df-convert:hover {\n",
              "      background-color: #E2EBFA;\n",
              "      box-shadow: 0px 1px 2px rgba(60, 64, 67, 0.3), 0px 1px 3px 1px rgba(60, 64, 67, 0.15);\n",
              "      fill: #174EA6;\n",
              "    }\n",
              "\n",
              "    [theme=dark] .colab-df-convert {\n",
              "      background-color: #3B4455;\n",
              "      fill: #D2E3FC;\n",
              "    }\n",
              "\n",
              "    [theme=dark] .colab-df-convert:hover {\n",
              "      background-color: #434B5C;\n",
              "      box-shadow: 0px 1px 3px 1px rgba(0, 0, 0, 0.15);\n",
              "      filter: drop-shadow(0px 1px 2px rgba(0, 0, 0, 0.3));\n",
              "      fill: #FFFFFF;\n",
              "    }\n",
              "  </style>\n",
              "\n",
              "      <script>\n",
              "        const buttonEl =\n",
              "          document.querySelector('#df-a970b4eb-d0c9-4283-b080-99ed28b4858d button.colab-df-convert');\n",
              "        buttonEl.style.display =\n",
              "          google.colab.kernel.accessAllowed ? 'block' : 'none';\n",
              "\n",
              "        async function convertToInteractive(key) {\n",
              "          const element = document.querySelector('#df-a970b4eb-d0c9-4283-b080-99ed28b4858d');\n",
              "          const dataTable =\n",
              "            await google.colab.kernel.invokeFunction('convertToInteractive',\n",
              "                                                     [key], {});\n",
              "          if (!dataTable) return;\n",
              "\n",
              "          const docLinkHtml = 'Like what you see? Visit the ' +\n",
              "            '<a target=\"_blank\" href=https://colab.research.google.com/notebooks/data_table.ipynb>data table notebook</a>'\n",
              "            + ' to learn more about interactive tables.';\n",
              "          element.innerHTML = '';\n",
              "          dataTable['output_type'] = 'display_data';\n",
              "          await google.colab.output.renderOutput(dataTable, element);\n",
              "          const docLink = document.createElement('div');\n",
              "          docLink.innerHTML = docLinkHtml;\n",
              "          element.appendChild(docLink);\n",
              "        }\n",
              "      </script>\n",
              "    </div>\n",
              "  </div>\n",
              "  "
            ],
            "text/plain": [
              "                                         title_clean  ... news_list_encoded\n",
              "0  will the grinch cancel a santa rally on the st...  ...                 5\n",
              "1  spdr sp xop etf in a multiyear uptrend buy the...  ...                 4\n",
              "2  britain reports new omicron cases major incide...  ...                 3\n",
              "3     risk aversion sentiment continues to percolate  ...                 0\n",
              "4  omicron rush on boosters may make it harder to...  ...                 0\n",
              "\n",
              "[5 rows x 3 columns]"
            ]
          },
          "metadata": {},
          "execution_count": 29
        }
      ]
    },
    {
      "cell_type": "code",
      "source": [
        "train_df,val_df = train_test_split(df_final,random_state = 42,test_size=0.2)"
      ],
      "metadata": {
        "id": "VIsruxqeEAwl"
      },
      "execution_count": 30,
      "outputs": []
    },
    {
      "cell_type": "code",
      "source": [
        "print(train_df.shape)\n",
        "print(val_df.shape)"
      ],
      "metadata": {
        "colab": {
          "base_uri": "https://localhost:8080/"
        },
        "id": "SagLa6qZExsl",
        "outputId": "74e18dd1-8f5f-4059-c7b1-9e1b34d46878"
      },
      "execution_count": 31,
      "outputs": [
        {
          "output_type": "stream",
          "name": "stdout",
          "text": [
            "(1600, 3)\n",
            "(400, 3)\n"
          ]
        }
      ]
    },
    {
      "cell_type": "code",
      "source": [
        "train_dataset = Dataset.from_pandas(train_df)\n",
        "val_dataset = Dataset.from_pandas(val_df)\n",
        "print(train_dataset)\n",
        "print(val_dataset)"
      ],
      "metadata": {
        "colab": {
          "base_uri": "https://localhost:8080/"
        },
        "id": "cp0cQ60IGN0o",
        "outputId": "8ca0a344-ab6c-4ca5-d9d5-5ef3795811d4"
      },
      "execution_count": 32,
      "outputs": [
        {
          "output_type": "stream",
          "name": "stdout",
          "text": [
            "Dataset({\n",
            "    features: ['title_clean', 'paragraph_clean', 'news_list_encoded', '__index_level_0__'],\n",
            "    num_rows: 1600\n",
            "})\n",
            "Dataset({\n",
            "    features: ['title_clean', 'paragraph_clean', 'news_list_encoded', '__index_level_0__'],\n",
            "    num_rows: 400\n",
            "})\n"
          ]
        }
      ]
    },
    {
      "cell_type": "code",
      "source": [
        "train_dataset = train_dataset.remove_columns(['__index_level_0__'])\n",
        "val_dataset = val_dataset.remove_columns(['__index_level_0__'])"
      ],
      "metadata": {
        "id": "LD5lUH5QGSyw"
      },
      "execution_count": 33,
      "outputs": []
    },
    {
      "cell_type": "code",
      "source": [
        "checkpoint = \"bert-base-uncased\"\n",
        "tokenizer = AutoTokenizer.from_pretrained(checkpoint)"
      ],
      "metadata": {
        "id": "exX03ls7Ezlc"
      },
      "execution_count": 34,
      "outputs": []
    },
    {
      "cell_type": "code",
      "source": [
        "tokenizer.pad_token_id"
      ],
      "metadata": {
        "colab": {
          "base_uri": "https://localhost:8080/"
        },
        "id": "5-DRTnK6G-5T",
        "outputId": "fda22da2-ad93-4140-cc10-ec4ab2131e44"
      },
      "execution_count": 35,
      "outputs": [
        {
          "output_type": "execute_result",
          "data": {
            "text/plain": [
              "0"
            ]
          },
          "metadata": {},
          "execution_count": 35
        }
      ]
    },
    {
      "cell_type": "code",
      "source": [
        "def tokenize_funct(df):\n",
        "  return tokenizer(df[\"title_clean\"], df[\"paragraph_clean\"], truncation=True,padding = 'max_length',max_length = 150)\n",
        "train_tokenized_datasets = train_dataset.map(tokenize_funct, batched=True)\n",
        "val_tokenized_datasets = val_dataset.map(tokenize_funct, batched=True)\n",
        "data_collator = DataCollatorWithPadding(tokenizer=tokenizer, return_tensors=\"tf\")"
      ],
      "metadata": {
        "colab": {
          "base_uri": "https://localhost:8080/",
          "height": 81,
          "referenced_widgets": [
            "cc996b6d9ec94ef7bb85a7b8537e2f85",
            "1ecc2baa9e0a466480ef1e15e5fe2c24",
            "b57b1abaae7945cd94c3a63014654c5e",
            "4d06cf7cbc11404992b5b9143b5e2fd5",
            "dcecdd059cc448bb9e797b4641f28d33",
            "7f84bed5f74b485e87f5b45719733644",
            "8faba0706bc24d3593a0ec2ae7ae6e02",
            "5601e37aa5e641ac9a2491d1b96f1a60",
            "1cc5c2f6e537456bab47e9c66ac65857",
            "d98ee6f926e8404d933ff1c7e292a6d9",
            "8e7353985b084ab99b68855143a7f0cd",
            "b5739baee5a34c9e8feee57d2af8f461",
            "4e6f63239bb44123bd3addbc17570df6",
            "b5188aafdab545c09a9141b1ad8561c1",
            "ee28ca5e2e09485cadeb055aad71912a",
            "b2af651861af43f087dbf7ae9cfcb223",
            "0ee5fa0dcafe49f5877fcd87964d4127",
            "822854d0e206416d8179aa72c2e4c009",
            "61318653521d4083853b3e21e748b335",
            "7060938383794671a1f7be86c2298c8f",
            "b78fa1159e804194ba90ca0632b64bdc",
            "49a2d701a4b84448b6a092ce7da3d822"
          ]
        },
        "id": "3Vx-G_v_FLXn",
        "outputId": "5df12a36-00e8-4ea6-9623-606eae2296b1"
      },
      "execution_count": 36,
      "outputs": [
        {
          "output_type": "display_data",
          "data": {
            "application/vnd.jupyter.widget-view+json": {
              "model_id": "cc996b6d9ec94ef7bb85a7b8537e2f85",
              "version_minor": 0,
              "version_major": 2
            },
            "text/plain": [
              "  0%|          | 0/2 [00:00<?, ?ba/s]"
            ]
          },
          "metadata": {}
        },
        {
          "output_type": "display_data",
          "data": {
            "application/vnd.jupyter.widget-view+json": {
              "model_id": "b5739baee5a34c9e8feee57d2af8f461",
              "version_minor": 0,
              "version_major": 2
            },
            "text/plain": [
              "  0%|          | 0/1 [00:00<?, ?ba/s]"
            ]
          },
          "metadata": {}
        }
      ]
    },
    {
      "cell_type": "code",
      "source": [
        "len(val_tokenized_datasets['news_list_encoded'])"
      ],
      "metadata": {
        "colab": {
          "base_uri": "https://localhost:8080/"
        },
        "id": "rW30Gs_LJMm-",
        "outputId": "eba94c1a-5c4c-4257-93a6-178149de1176"
      },
      "execution_count": 37,
      "outputs": [
        {
          "output_type": "execute_result",
          "data": {
            "text/plain": [
              "400"
            ]
          },
          "metadata": {},
          "execution_count": 37
        }
      ]
    },
    {
      "cell_type": "code",
      "source": [
        "tf_train_dataset = train_tokenized_datasets.to_tf_dataset(\n",
        "    columns=[\"attention_mask\", \"input_ids\", \"token_type_ids\"],\n",
        "    label_cols=[\"news_list_encoded\"],\n",
        "    shuffle=True,\n",
        "    collate_fn=data_collator,\n",
        "    batch_size=32,\n",
        ")\n",
        "\n",
        "tf_validation_dataset = val_tokenized_datasets.to_tf_dataset(\n",
        "    columns=[\"attention_mask\", \"input_ids\", \"token_type_ids\"],\n",
        "    label_cols=[\"news_list_encoded\"],\n",
        "    shuffle=False,\n",
        "    collate_fn=data_collator,\n",
        "    batch_size=32,\n",
        ")"
      ],
      "metadata": {
        "id": "5dBcX0AOIbfQ"
      },
      "execution_count": 38,
      "outputs": []
    },
    {
      "cell_type": "code",
      "source": [
        "model = TFAutoModelForSequenceClassification.from_pretrained(checkpoint, num_labels=cat)"
      ],
      "metadata": {
        "colab": {
          "base_uri": "https://localhost:8080/"
        },
        "id": "p2uHFmdRIvpp",
        "outputId": "0b88a147-6711-479f-ced3-0e63d3d2ed48"
      },
      "execution_count": 39,
      "outputs": [
        {
          "output_type": "stream",
          "name": "stderr",
          "text": [
            "All model checkpoint layers were used when initializing TFBertForSequenceClassification.\n",
            "\n",
            "Some layers of TFBertForSequenceClassification were not initialized from the model checkpoint at bert-base-uncased and are newly initialized: ['classifier']\n",
            "You should probably TRAIN this model on a down-stream task to be able to use it for predictions and inference.\n"
          ]
        }
      ]
    },
    {
      "cell_type": "code",
      "source": [
        "optim = tf.keras.optimizers.Adam(\n",
        "    learning_rate=3e-4, beta_1=0.9, beta_2=0.999, epsilon=1e-07, amsgrad=False,\n",
        "    name='Adam',\n",
        ")\n",
        "model.compile(\n",
        "    optimizer=optim,\n",
        "    loss=SparseCategoricalCrossentropy(from_logits=True),\n",
        "    metrics=[\"accuracy\"],\n",
        ")\n",
        "model.fit(\n",
        "    tf_train_dataset,\n",
        "    validation_data=tf_validation_dataset,\n",
        "    epochs = 10\n",
        ")"
      ],
      "metadata": {
        "colab": {
          "base_uri": "https://localhost:8080/"
        },
        "id": "aR62v4FVKVEk",
        "outputId": "c7f9787b-8e3f-4ddf-996a-4ac45b8afa2d"
      },
      "execution_count": 44,
      "outputs": [
        {
          "output_type": "stream",
          "name": "stdout",
          "text": [
            "Epoch 1/10\n",
            "50/50 [==============================] - 114s 2s/step - loss: 1.7079 - accuracy: 0.2488 - val_loss: 1.7054 - val_accuracy: 0.2475\n",
            "Epoch 2/10\n",
            "50/50 [==============================] - 92s 2s/step - loss: 1.7037 - accuracy: 0.2294 - val_loss: 1.7376 - val_accuracy: 0.2475\n",
            "Epoch 3/10\n",
            "50/50 [==============================] - 92s 2s/step - loss: 1.6882 - accuracy: 0.2400 - val_loss: 1.7060 - val_accuracy: 0.2975\n",
            "Epoch 4/10\n",
            "50/50 [==============================] - 92s 2s/step - loss: 1.6808 - accuracy: 0.2637 - val_loss: 1.7363 - val_accuracy: 0.2975\n",
            "Epoch 5/10\n",
            "50/50 [==============================] - 92s 2s/step - loss: 1.6913 - accuracy: 0.2562 - val_loss: 1.7483 - val_accuracy: 0.2975\n",
            "Epoch 6/10\n",
            "50/50 [==============================] - 92s 2s/step - loss: 1.6960 - accuracy: 0.2531 - val_loss: 1.7016 - val_accuracy: 0.2975\n",
            "Epoch 7/10\n",
            "50/50 [==============================] - 92s 2s/step - loss: 1.6963 - accuracy: 0.2406 - val_loss: 1.7161 - val_accuracy: 0.2975\n",
            "Epoch 8/10\n",
            "50/50 [==============================] - 92s 2s/step - loss: 1.6844 - accuracy: 0.2438 - val_loss: 1.7340 - val_accuracy: 0.2975\n",
            "Epoch 9/10\n",
            "50/50 [==============================] - 92s 2s/step - loss: 1.6846 - accuracy: 0.2506 - val_loss: 1.7518 - val_accuracy: 0.2975\n",
            "Epoch 10/10\n",
            "50/50 [==============================] - 92s 2s/step - loss: 1.6961 - accuracy: 0.2381 - val_loss: 1.7177 - val_accuracy: 0.2475\n"
          ]
        },
        {
          "output_type": "execute_result",
          "data": {
            "text/plain": [
              "<keras.callbacks.History at 0x7fe55ca594d0>"
            ]
          },
          "metadata": {},
          "execution_count": 44
        }
      ]
    },
    {
      "cell_type": "code",
      "source": [
        "preds = model.predict(tf_validation_dataset)[\"logits\"]\n",
        "class_preds = np.argmax(preds, axis=1)\n",
        "class_preds[0:10]"
      ],
      "metadata": {
        "id": "81fROCHHNV2D",
        "colab": {
          "base_uri": "https://localhost:8080/"
        },
        "outputId": "fffed189-e46f-425e-c712-3e4c169fb41a"
      },
      "execution_count": 48,
      "outputs": [
        {
          "output_type": "execute_result",
          "data": {
            "text/plain": [
              "array([0, 0, 0, 0, 0, 0, 0, 0, 0, 0])"
            ]
          },
          "metadata": {},
          "execution_count": 48
        }
      ]
    },
    {
      "cell_type": "markdown",
      "source": [
        "**The dataset is imbalanced. So, accuracy is not a good evaluation metric. Hence, we should calculate the F1-score. **"
      ],
      "metadata": {
        "id": "ZwMz5vdnNlDp"
      }
    },
    {
      "cell_type": "code",
      "source": [
        "print(classification_report(val_dataset['news_list_encoded'],class_preds))"
      ],
      "metadata": {
        "id": "K1oV157JOlhM",
        "colab": {
          "base_uri": "https://localhost:8080/"
        },
        "outputId": "548ab16f-e6c9-4283-844b-f09b2a3df255"
      },
      "execution_count": 49,
      "outputs": [
        {
          "output_type": "stream",
          "name": "stdout",
          "text": [
            "              precision    recall  f1-score   support\n",
            "\n",
            "           0       0.25      1.00      0.40        99\n",
            "           1       0.00      0.00      0.00        43\n",
            "           2       0.00      0.00      0.00        69\n",
            "           3       0.00      0.00      0.00       119\n",
            "           4       0.00      0.00      0.00        39\n",
            "           5       0.00      0.00      0.00        31\n",
            "\n",
            "    accuracy                           0.25       400\n",
            "   macro avg       0.04      0.17      0.07       400\n",
            "weighted avg       0.06      0.25      0.10       400\n",
            "\n"
          ]
        },
        {
          "output_type": "stream",
          "name": "stderr",
          "text": [
            "/usr/local/lib/python3.7/dist-packages/sklearn/metrics/_classification.py:1308: UndefinedMetricWarning: Precision and F-score are ill-defined and being set to 0.0 in labels with no predicted samples. Use `zero_division` parameter to control this behavior.\n",
            "  _warn_prf(average, modifier, msg_start, len(result))\n",
            "/usr/local/lib/python3.7/dist-packages/sklearn/metrics/_classification.py:1308: UndefinedMetricWarning: Precision and F-score are ill-defined and being set to 0.0 in labels with no predicted samples. Use `zero_division` parameter to control this behavior.\n",
            "  _warn_prf(average, modifier, msg_start, len(result))\n",
            "/usr/local/lib/python3.7/dist-packages/sklearn/metrics/_classification.py:1308: UndefinedMetricWarning: Precision and F-score are ill-defined and being set to 0.0 in labels with no predicted samples. Use `zero_division` parameter to control this behavior.\n",
            "  _warn_prf(average, modifier, msg_start, len(result))\n"
          ]
        }
      ]
    },
    {
      "cell_type": "markdown",
      "source": [
        "** The F1 score is less because of low training done. Following ways can be used for improving the performance of the model:\n",
        "1. Train for longer duration.\n",
        "2. Take into acount the imbalance in the dataset.\n",
        "3. Hyperparameter tuning\n",
        "4. Tune the maximum inout length according to the data.\n",
        "5. Use more data to train the model.\n",
        "6. Use a Different architecture. **\n",
        "\n",
        "Q. How would you collect such data from the internet?\n",
        "\n",
        "Data can be collected using web scrapping and making web scrappers for automated data extraction."
      ],
      "metadata": {
        "id": "sxwRsxDuPg7e"
      }
    }
  ]
}